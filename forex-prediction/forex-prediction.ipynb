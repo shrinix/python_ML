{
 "cells": [
  {
   "cell_type": "code",
   "execution_count": 1,
   "id": "843082c8",
   "metadata": {},
   "outputs": [],
   "source": [
    "import os\n",
    "import requests\n",
    "import json\n",
    "import pandas as pd\n",
    "import numpy as np\n",
    "\n",
    "# Importing libraries for data visualization\n",
    "import matplotlib.pylab as plt\n",
    "\n",
    "# Importing an advanced library for data visualization\n",
    "import seaborn as sns\n",
    "\n",
    "# Importing library for date manipulation\n",
    "from datetime import datetime\n",
    "\n",
    "# To calculate the MSE or RMSE\n",
    "from sklearn.metrics import mean_squared_error\n",
    "\n",
    "# Importing acf and pacf functions\n",
    "from statsmodels.graphics.tsaplots import plot_acf, plot_pacf\n",
    "\n",
    "# Importing models from statsmodels library\n",
    "from statsmodels.tsa.ar_model import AutoReg\n",
    "\n",
    "from statsmodels.tsa.arima.model import ARIMA"
   ]
  },
  {
   "cell_type": "code",
   "execution_count": 2,
   "id": "69a1b157",
   "metadata": {},
   "outputs": [
    {
     "name": "stdout",
     "output_type": "stream",
     "text": [
      "               Open     High      Low    Close\n",
      "Date                                          \n",
      "2022-10-21  0.01208  0.01211  0.01205  0.01211\n",
      "2022-10-20  0.01204  0.01211  0.01200  0.01208\n",
      "2022-10-19  0.01215  0.01215  0.01203  0.01204\n",
      "2022-10-18  0.01216  0.01218  0.01213  0.01215\n",
      "2022-10-17  0.01214  0.01217  0.01213  0.01216\n",
      "...             ...      ...      ...      ...\n",
      "2014-11-13  0.01628  0.01629  0.01623  0.01624\n",
      "2014-11-12  0.01625  0.01629  0.01623  0.01629\n",
      "2014-11-11  0.01624  0.01626  0.01624  0.01624\n",
      "2014-11-10  0.01628  0.01629  0.01622  0.01624\n",
      "2014-11-07  0.01622  0.01629  0.01622  0.01628\n",
      "\n",
      "[2075 rows x 4 columns]\n",
      "<class 'pandas.core.frame.DataFrame'>\n",
      "DatetimeIndex: 2075 entries, 2022-10-21 to 2014-11-07\n",
      "Data columns (total 4 columns):\n",
      " #   Column  Non-Null Count  Dtype  \n",
      "---  ------  --------------  -----  \n",
      " 0   Open    2075 non-null   float64\n",
      " 1   High    2075 non-null   float64\n",
      " 2   Low     2075 non-null   float64\n",
      " 3   Close   2075 non-null   float64\n",
      "dtypes: float64(4)\n",
      "memory usage: 81.1 KB\n"
     ]
    },
    {
     "data": {
      "text/html": [
       "<div>\n",
       "<style scoped>\n",
       "    .dataframe tbody tr th:only-of-type {\n",
       "        vertical-align: middle;\n",
       "    }\n",
       "\n",
       "    .dataframe tbody tr th {\n",
       "        vertical-align: top;\n",
       "    }\n",
       "\n",
       "    .dataframe thead th {\n",
       "        text-align: right;\n",
       "    }\n",
       "</style>\n",
       "<table border=\"1\" class=\"dataframe\">\n",
       "  <thead>\n",
       "    <tr style=\"text-align: right;\">\n",
       "      <th></th>\n",
       "      <th>Open</th>\n",
       "      <th>High</th>\n",
       "      <th>Low</th>\n",
       "      <th>Close</th>\n",
       "    </tr>\n",
       "    <tr>\n",
       "      <th>Date</th>\n",
       "      <th></th>\n",
       "      <th></th>\n",
       "      <th></th>\n",
       "      <th></th>\n",
       "    </tr>\n",
       "  </thead>\n",
       "  <tbody>\n",
       "    <tr>\n",
       "      <th>2014-11-13</th>\n",
       "      <td>0.01628</td>\n",
       "      <td>0.01629</td>\n",
       "      <td>0.01623</td>\n",
       "      <td>0.01624</td>\n",
       "    </tr>\n",
       "    <tr>\n",
       "      <th>2014-11-12</th>\n",
       "      <td>0.01625</td>\n",
       "      <td>0.01629</td>\n",
       "      <td>0.01623</td>\n",
       "      <td>0.01629</td>\n",
       "    </tr>\n",
       "    <tr>\n",
       "      <th>2014-11-11</th>\n",
       "      <td>0.01624</td>\n",
       "      <td>0.01626</td>\n",
       "      <td>0.01624</td>\n",
       "      <td>0.01624</td>\n",
       "    </tr>\n",
       "    <tr>\n",
       "      <th>2014-11-10</th>\n",
       "      <td>0.01628</td>\n",
       "      <td>0.01629</td>\n",
       "      <td>0.01622</td>\n",
       "      <td>0.01624</td>\n",
       "    </tr>\n",
       "    <tr>\n",
       "      <th>2014-11-07</th>\n",
       "      <td>0.01622</td>\n",
       "      <td>0.01629</td>\n",
       "      <td>0.01622</td>\n",
       "      <td>0.01628</td>\n",
       "    </tr>\n",
       "  </tbody>\n",
       "</table>\n",
       "</div>"
      ],
      "text/plain": [
       "               Open     High      Low    Close\n",
       "Date                                          \n",
       "2014-11-13  0.01628  0.01629  0.01623  0.01624\n",
       "2014-11-12  0.01625  0.01629  0.01623  0.01629\n",
       "2014-11-11  0.01624  0.01626  0.01624  0.01624\n",
       "2014-11-10  0.01628  0.01629  0.01622  0.01624\n",
       "2014-11-07  0.01622  0.01629  0.01622  0.01628"
      ]
     },
     "execution_count": 2,
     "metadata": {},
     "output_type": "execute_result"
    }
   ],
   "source": [
    "url = 'https://www.alphavantage.co/query?function=FX_DAILY&outputsize=full&from_symbol=INR&to_symbol=USD&apikey=4B1MJYHIH3MK5EEC'\n",
    "r = requests.get(url)\n",
    "data = r.json()\n",
    "#print(type(data))\n",
    "#print(data.keys())\n",
    "#print(data['Time Series FX (Daily)'].keys())\n",
    "#print(data['Time Series FX (Daily)'])\n",
    "#print(data['Time Series FX (Daily)']['2022-10-10'])\n",
    "\n",
    "df = pd.DataFrame.from_dict(data['Time Series FX (Daily)'], orient ='index')\n",
    "df.index.name='Date'\n",
    "df = df.set_index(pd.to_datetime(df.index))\n",
    "df.rename(columns = {'1. open':'Open', '2. high':'High', '3. low':'Low', '4. close':'Close'}, inplace = True)\n",
    "df['Open'] = df['Open'].astype(float, errors = 'raise')\n",
    "df['High'] = df['High'].astype(float, errors = 'raise')\n",
    "df['Low'] = df['Low'].astype(float, errors = 'raise')\n",
    "df['Close'] = df['Close'].astype(float, errors = 'raise')\n",
    "print(df)\n",
    "df.info()\n",
    "df.tail()\n",
    "\n",
    "#forex_data = json.loads(str(data))\n",
    "\n",
    "#print('Forex Data\\n'+str(forex_data))"
   ]
  },
  {
   "cell_type": "code",
   "execution_count": 3,
   "id": "dc44eeb1",
   "metadata": {},
   "outputs": [
    {
     "data": {
      "text/plain": [
       "[<matplotlib.lines.Line2D at 0x7fe722d7a650>]"
      ]
     },
     "execution_count": 3,
     "metadata": {},
     "output_type": "execute_result"
    },
    {
     "data": {
      "image/png": "[encoded data removed]",
      "text/plain": [
       "<Figure size 1152x576 with 1 Axes>"
      ]
     },
     "metadata": {
      "needs_background": "light"
     },
     "output_type": "display_data"
    }
   ],
   "source": [
    "# Visualizing the time series\n",
    "plt.figure(figsize=(16, 8))\n",
    "plt.xlabel(\"Month\")\n",
    "plt.ylabel(\"Closing Prices\")\n",
    "plt.title('INR-to-USD Forex Rates')\n",
    "plt.plot(df.index, df.Close, color = 'c', marker = '.')\n",
    "#plt.plot(df.index, df.High, color = 'r', marker = '.')"
   ]
  },
  {
   "cell_type": "code",
   "execution_count": 4,
   "id": "bb97c4f4",
   "metadata": {},
   "outputs": [
    {
     "name": "stdout",
     "output_type": "stream",
     "text": [
      "[[0.01211]\n",
      " [0.01208]\n",
      " [0.01204]\n",
      " ...\n",
      " [0.01624]\n",
      " [0.01624]\n",
      " [0.01628]]\n",
      "(2075, 1)\n",
      "Number of rows in training set is: 2075\n"
     ]
    }
   ],
   "source": [
    "#Use the Close Stock Price Column to Train the Model.\n",
    "training_set = df.iloc[:,3:4].values\n",
    "print(training_set)\n",
    "print(training_set.shape)\n",
    "print(\"Number of rows in training set is: \"+str(len(training_set)))"
   ]
  },
  {
   "cell_type": "code",
   "execution_count": 5,
   "id": "f1894e9d",
   "metadata": {
    "scrolled": true
   },
   "outputs": [
    {
     "name": "stdout",
     "output_type": "stream",
     "text": [
      "False\n",
      "Number of missing values in each column of the dataframe:\n",
      "Open     0\n",
      "High     0\n",
      "Low      0\n",
      "Close    0\n",
      "dtype: int64\n",
      "\n"
     ]
    }
   ],
   "source": [
    "#Check data quality\n",
    "print(df.isna().values.any())\n",
    "print(\"Number of missing values in each column of the dataframe:\\n\"+str(df.isnull().sum())+\"\\n\")"
   ]
  },
  {
   "cell_type": "code",
   "execution_count": 6,
   "id": "333a5301",
   "metadata": {},
   "outputs": [
    {
     "data": {
      "text/plain": [
       "array([[0.01647059],\n",
       "       [0.00941176],\n",
       "       [0.        ],\n",
       "       ...,\n",
       "       [0.98823529],\n",
       "       [0.98823529],\n",
       "       [0.99764706]])"
      ]
     },
     "execution_count": 6,
     "metadata": {},
     "output_type": "execute_result"
    }
   ],
   "source": [
    "#Normalize the dataset\n",
    "from sklearn.preprocessing import MinMaxScaler\n",
    "scaler = MinMaxScaler(feature_range = (0,1))\n",
    "scaled_training_set = scaler.fit_transform(training_set)\n",
    "scaled_training_set"
   ]
  },
  {
   "cell_type": "code",
   "execution_count": 7,
   "id": "7c52aaa8",
   "metadata": {},
   "outputs": [
    {
     "name": "stdout",
     "output_type": "stream",
     "text": [
      "(2015, 60)\n",
      "(2015,)\n"
     ]
    }
   ],
   "source": [
    "#Creating X_train and y_train Data Structures\n",
    "x_train = []\n",
    "y_train = []\n",
    "\n",
    "#what is 60 here?\n",
    "for i in range(60,len(training_set)):\n",
    "    x_train.append(scaled_training_set[i-60:i,0])\n",
    "    y_train.append(scaled_training_set[i,0])\n",
    "x_train = np.array(x_train)\n",
    "y_train = np.array(y_train)\n",
    "\n",
    "print(x_train.shape)\n",
    "print(y_train.shape)"
   ]
  },
  {
   "cell_type": "code",
   "execution_count": 8,
   "id": "4d6ddc94",
   "metadata": {},
   "outputs": [
    {
     "data": {
      "text/plain": [
       "(2015, 60, 1)"
      ]
     },
     "execution_count": 8,
     "metadata": {},
     "output_type": "execute_result"
    }
   ],
   "source": [
    "#Reshape data - why is this required?\n",
    "x_train = np.reshape(x_train,(x_train.shape[0], x_train.shape[1],1))\n",
    "x_train.shape"
   ]
  },
  {
   "cell_type": "code",
   "execution_count": 9,
   "id": "d271c90c",
   "metadata": {},
   "outputs": [
    {
     "name": "stderr",
     "output_type": "stream",
     "text": [
      "Using TensorFlow backend.\n",
      "2022-10-22 19:03:29.717023: I tensorflow/core/platform/cpu_feature_guard.cc:145] This TensorFlow binary is optimized with Intel(R) MKL-DNN to use the following CPU instructions in performance critical operations:  SSE4.1 SSE4.2 AVX AVX2 FMA\n",
      "To enable them in non-MKL-DNN operations, rebuild TensorFlow with the appropriate compiler flags.\n",
      "2022-10-22 19:03:29.717329: I tensorflow/core/common_runtime/process_util.cc:115] Creating new thread pool with default inter op setting: 8. Tune using inter_op_parallelism_threads for best performance.\n"
     ]
    }
   ],
   "source": [
    "#Building the LSTM Model\n",
    "#Anaconda Navigator -> Enviroments -> Play button -> Open Terminal -> conda install keras\n",
    "from keras.models import Sequential\n",
    "from keras.layers import LSTM\n",
    "from keras.layers import Dense\n",
    "from keras.layers import Dropout\n",
    "\n",
    "regressor = Sequential()\n",
    "regressor.add(LSTM(units = 50, return_sequences=True, input_shape=(x_train.shape[1],1)))\n",
    "regressor.add(Dropout(0.2))\n",
    "\n",
    "regressor.add(LSTM(units = 50, return_sequences=True))\n",
    "regressor.add(Dropout(0.2))\n",
    "\n",
    "regressor.add(LSTM(units = 50, return_sequences=True))\n",
    "regressor.add(Dropout(0.2))\n",
    "\n",
    "regressor.add(LSTM(units = 50))\n",
    "regressor.add(Dropout(0.2))\n",
    "\n",
    "regressor.add(Dense(units=1))"
   ]
  },
  {
   "cell_type": "code",
   "execution_count": 10,
   "id": "1dabac93",
   "metadata": {},
   "outputs": [
    {
     "name": "stdout",
     "output_type": "stream",
     "text": [
      "3.7.13 (default, Mar 28 2022, 07:24:34) \n",
      "[Clang 12.0.0 ]\n"
     ]
    }
   ],
   "source": [
    "import sys\n",
    "print(sys.version)"
   ]
  },
  {
   "cell_type": "code",
   "execution_count": 11,
   "id": "944a2b8f",
   "metadata": {},
   "outputs": [
    {
     "name": "stdout",
     "output_type": "stream",
     "text": [
      "Epoch 1/100\n",
      "2015/2015 [==============================] - 40s 20ms/step - loss: 0.0299\n",
      "Epoch 2/100\n",
      "2015/2015 [==============================] - 31s 16ms/step - loss: 0.0053\n",
      "Epoch 3/100\n",
      "2015/2015 [==============================] - 31s 15ms/step - loss: 0.0052\n",
      "Epoch 4/100\n",
      "2015/2015 [==============================] - 32s 16ms/step - loss: 0.0049\n",
      "Epoch 5/100\n",
      "2015/2015 [==============================] - 31s 15ms/step - loss: 0.0046\n",
      "Epoch 6/100\n",
      "2015/2015 [==============================] - 31s 16ms/step - loss: 0.0041\n",
      "Epoch 7/100\n",
      "2015/2015 [==============================] - 31s 16ms/step - loss: 0.0040\n",
      "Epoch 8/100\n",
      "2015/2015 [==============================] - 33s 16ms/step - loss: 0.0038\n",
      "Epoch 9/100\n",
      "2015/2015 [==============================] - 45s 22ms/step - loss: 0.0037\n",
      "Epoch 10/100\n",
      "2015/2015 [==============================] - 37s 18ms/step - loss: 0.0035\n",
      "Epoch 11/100\n",
      "2015/2015 [==============================] - 33s 17ms/step - loss: 0.0034\n",
      "Epoch 12/100\n",
      "2015/2015 [==============================] - 34s 17ms/step - loss: 0.0033\n",
      "Epoch 13/100\n",
      "2015/2015 [==============================] - 32s 16ms/step - loss: 0.0032\n",
      "Epoch 14/100\n",
      "2015/2015 [==============================] - 34s 17ms/step - loss: 0.0030\n",
      "Epoch 15/100\n",
      "2015/2015 [==============================] - 33s 16ms/step - loss: 0.0029\n",
      "Epoch 16/100\n",
      "2015/2015 [==============================] - 32s 16ms/step - loss: 0.0032\n",
      "Epoch 17/100\n",
      "2015/2015 [==============================] - 32s 16ms/step - loss: 0.0028\n",
      "Epoch 18/100\n",
      "2015/2015 [==============================] - 32s 16ms/step - loss: 0.0027\n",
      "Epoch 19/100\n",
      "2015/2015 [==============================] - 34s 17ms/step - loss: 0.0026\n",
      "Epoch 20/100\n",
      "2015/2015 [==============================] - 33s 16ms/step - loss: 0.0029\n",
      "Epoch 21/100\n",
      "2015/2015 [==============================] - 34s 17ms/step - loss: 0.0026\n",
      "Epoch 22/100\n",
      "2015/2015 [==============================] - 35s 17ms/step - loss: 0.0025\n",
      "Epoch 23/100\n",
      "2015/2015 [==============================] - 34s 17ms/step - loss: 0.0023\n",
      "Epoch 24/100\n",
      "2015/2015 [==============================] - 34s 17ms/step - loss: 0.0024\n",
      "Epoch 25/100\n",
      "2015/2015 [==============================] - 34s 17ms/step - loss: 0.0022\n",
      "Epoch 26/100\n",
      "2015/2015 [==============================] - 34s 17ms/step - loss: 0.0021\n",
      "Epoch 27/100\n",
      "2015/2015 [==============================] - 34s 17ms/step - loss: 0.0020\n",
      "Epoch 28/100\n",
      "2015/2015 [==============================] - 36s 18ms/step - loss: 0.0022\n",
      "Epoch 29/100\n",
      "2015/2015 [==============================] - 34s 17ms/step - loss: 0.0023\n",
      "Epoch 30/100\n",
      "2015/2015 [==============================] - 34s 17ms/step - loss: 0.0023\n",
      "Epoch 31/100\n",
      "2015/2015 [==============================] - 35s 17ms/step - loss: 0.0020\n",
      "Epoch 32/100\n",
      "2015/2015 [==============================] - 34s 17ms/step - loss: 0.0020\n",
      "Epoch 33/100\n",
      "2015/2015 [==============================] - 34s 17ms/step - loss: 0.0019\n",
      "Epoch 34/100\n",
      "2015/2015 [==============================] - 35s 17ms/step - loss: 0.0018\n",
      "Epoch 35/100\n",
      "2015/2015 [==============================] - 34s 17ms/step - loss: 0.0017\n",
      "Epoch 36/100\n",
      "2015/2015 [==============================] - 33s 17ms/step - loss: 0.0018\n",
      "Epoch 37/100\n",
      "2015/2015 [==============================] - 35s 17ms/step - loss: 0.0021\n",
      "Epoch 38/100\n",
      "2015/2015 [==============================] - 34s 17ms/step - loss: 0.0016\n",
      "Epoch 39/100\n",
      "2015/2015 [==============================] - 34s 17ms/step - loss: 0.0017\n",
      "Epoch 40/100\n",
      "2015/2015 [==============================] - 35s 17ms/step - loss: 0.0018\n",
      "Epoch 41/100\n",
      "2015/2015 [==============================] - 35s 17ms/step - loss: 0.0016\n",
      "Epoch 42/100\n",
      "2015/2015 [==============================] - 35s 17ms/step - loss: 0.0015\n",
      "Epoch 43/100\n",
      "2015/2015 [==============================] - 35s 17ms/step - loss: 0.0016\n",
      "Epoch 44/100\n",
      "2015/2015 [==============================] - 34s 17ms/step - loss: 0.0015\n",
      "Epoch 45/100\n",
      "2015/2015 [==============================] - 35s 17ms/step - loss: 0.0015\n",
      "Epoch 46/100\n",
      "2015/2015 [==============================] - 35s 17ms/step - loss: 0.0015\n",
      "Epoch 47/100\n",
      "2015/2015 [==============================] - 39s 19ms/step - loss: 0.0014\n",
      "Epoch 48/100\n",
      "2015/2015 [==============================] - 36s 18ms/step - loss: 0.0013\n",
      "Epoch 49/100\n",
      "2015/2015 [==============================] - 35s 17ms/step - loss: 0.0013\n",
      "Epoch 50/100\n",
      "2015/2015 [==============================] - 35s 17ms/step - loss: 0.0015\n",
      "Epoch 51/100\n",
      "2015/2015 [==============================] - 35s 17ms/step - loss: 0.0013\n",
      "Epoch 52/100\n",
      "2015/2015 [==============================] - 35s 17ms/step - loss: 0.0013\n",
      "Epoch 53/100\n",
      "2015/2015 [==============================] - 34s 17ms/step - loss: 0.0012\n",
      "Epoch 54/100\n",
      "2015/2015 [==============================] - 35s 17ms/step - loss: 0.0013\n",
      "Epoch 55/100\n",
      "2015/2015 [==============================] - 34s 17ms/step - loss: 0.0011\n",
      "Epoch 56/100\n",
      "2015/2015 [==============================] - 35s 17ms/step - loss: 0.0011\n",
      "Epoch 57/100\n",
      "2015/2015 [==============================] - 35s 17ms/step - loss: 0.0012\n",
      "Epoch 58/100\n",
      "2015/2015 [==============================] - 36s 18ms/step - loss: 0.0011\n",
      "Epoch 59/100\n",
      "2015/2015 [==============================] - 35s 18ms/step - loss: 0.0012\n",
      "Epoch 60/100\n",
      "2015/2015 [==============================] - 35s 18ms/step - loss: 0.0012\n",
      "Epoch 61/100\n",
      "2015/2015 [==============================] - 34s 17ms/step - loss: 0.0011\n",
      "Epoch 62/100\n",
      "2015/2015 [==============================] - 33s 16ms/step - loss: 0.0011\n",
      "Epoch 63/100\n",
      "2015/2015 [==============================] - 34s 17ms/step - loss: 0.0011\n",
      "Epoch 64/100\n",
      "2015/2015 [==============================] - 33s 16ms/step - loss: 0.0011\n",
      "Epoch 65/100\n",
      "2015/2015 [==============================] - 37s 18ms/step - loss: 9.7906e-04\n",
      "Epoch 66/100\n",
      "2015/2015 [==============================] - 34s 17ms/step - loss: 0.0011\n",
      "Epoch 67/100\n",
      "2015/2015 [==============================] - 38s 19ms/step - loss: 0.0011\n",
      "Epoch 68/100\n",
      "2015/2015 [==============================] - 38s 19ms/step - loss: 0.0010\n",
      "Epoch 69/100\n",
      "2015/2015 [==============================] - 36s 18ms/step - loss: 9.5097e-04\n",
      "Epoch 70/100\n",
      "2015/2015 [==============================] - 35s 17ms/step - loss: 0.0010\n",
      "Epoch 71/100\n",
      "2015/2015 [==============================] - 36s 18ms/step - loss: 9.8902e-04\n",
      "Epoch 72/100\n",
      "2015/2015 [==============================] - 34s 17ms/step - loss: 9.6253e-04\n",
      "Epoch 73/100\n",
      "2015/2015 [==============================] - 33s 16ms/step - loss: 8.9924e-04\n",
      "Epoch 74/100\n",
      "2015/2015 [==============================] - 33s 16ms/step - loss: 9.7864e-04\n",
      "Epoch 75/100\n",
      "2015/2015 [==============================] - 32s 16ms/step - loss: 9.2959e-04\n",
      "Epoch 76/100\n",
      "2015/2015 [==============================] - 32s 16ms/step - loss: 9.1568e-04\n",
      "Epoch 77/100\n",
      "2015/2015 [==============================] - 33s 16ms/step - loss: 8.4711e-04\n",
      "Epoch 78/100\n",
      "2015/2015 [==============================] - 33s 16ms/step - loss: 8.9077e-04\n",
      "Epoch 79/100\n",
      "2015/2015 [==============================] - 32s 16ms/step - loss: 8.3049e-04\n",
      "Epoch 80/100\n",
      "2015/2015 [==============================] - 33s 16ms/step - loss: 8.0876e-04\n",
      "Epoch 81/100\n",
      "2015/2015 [==============================] - 32s 16ms/step - loss: 7.8309e-04\n",
      "Epoch 82/100\n",
      "2015/2015 [==============================] - 32s 16ms/step - loss: 8.2768e-04\n",
      "Epoch 83/100\n",
      "2015/2015 [==============================] - 33s 16ms/step - loss: 8.2313e-04\n",
      "Epoch 84/100\n",
      "2015/2015 [==============================] - 32s 16ms/step - loss: 8.6204e-04\n",
      "Epoch 85/100\n",
      "2015/2015 [==============================] - 31s 16ms/step - loss: 7.7303e-04\n",
      "Epoch 86/100\n",
      "2015/2015 [==============================] - 32s 16ms/step - loss: 8.2054e-04\n",
      "Epoch 87/100\n",
      "2015/2015 [==============================] - 32s 16ms/step - loss: 8.1417e-04\n",
      "Epoch 88/100\n",
      "2015/2015 [==============================] - 31s 16ms/step - loss: 7.2269e-04\n",
      "Epoch 89/100\n",
      "2015/2015 [==============================] - 31s 16ms/step - loss: 9.0374e-04\n",
      "Epoch 90/100\n",
      "2015/2015 [==============================] - 32s 16ms/step - loss: 8.2011e-04\n",
      "Epoch 91/100\n",
      "2015/2015 [==============================] - 32s 16ms/step - loss: 7.3439e-04\n",
      "Epoch 92/100\n",
      "2015/2015 [==============================] - 31s 16ms/step - loss: 8.3180e-04\n",
      "Epoch 93/100\n",
      "2015/2015 [==============================] - 33s 17ms/step - loss: 7.3868e-04\n",
      "Epoch 94/100\n"
     ]
    },
    {
     "name": "stdout",
     "output_type": "stream",
     "text": [
      "2015/2015 [==============================] - 33s 17ms/step - loss: 7.6080e-04\n",
      "Epoch 95/100\n",
      "2015/2015 [==============================] - 37s 18ms/step - loss: 7.5520e-04\n",
      "Epoch 96/100\n",
      "2015/2015 [==============================] - 33s 16ms/step - loss: 7.6279e-04\n",
      "Epoch 97/100\n",
      "2015/2015 [==============================] - 34s 17ms/step - loss: 7.9462e-04\n",
      "Epoch 98/100\n",
      "2015/2015 [==============================] - 33s 16ms/step - loss: 7.9716e-04\n",
      "Epoch 99/100\n",
      "2015/2015 [==============================] - 35s 17ms/step - loss: 7.8961e-04\n",
      "Epoch 100/100\n",
      "2015/2015 [==============================] - 33s 17ms/step - loss: 7.9272e-04\n"
     ]
    },
    {
     "data": {
      "text/plain": [
       "<keras.callbacks.callbacks.History at 0x7fe710ac0e90>"
      ]
     },
     "execution_count": 11,
     "metadata": {},
     "output_type": "execute_result"
    }
   ],
   "source": [
    "#Fitting the model\n",
    "regressor.compile(optimizer='adam', loss='mean_squared_error')\n",
    "regressor.fit(x_train, y_train, epochs=100, batch_size=32)"
   ]
  },
  {
   "cell_type": "code",
   "execution_count": 27,
   "id": "8e55eab1",
   "metadata": {},
   "outputs": [
    {
     "name": "stdout",
     "output_type": "stream",
     "text": [
      "               Open     High      Low    Close\n",
      "Date                                          \n",
      "2022-10-21  0.01207  0.01211  0.01205  0.01210\n",
      "2022-10-20  0.01204  0.01211  0.01200  0.01208\n",
      "2022-10-19  0.01215  0.01215  0.01203  0.01204\n",
      "2022-10-18  0.01216  0.01218  0.01213  0.01215\n",
      "2022-10-17  0.01214  0.01217  0.01213  0.01216\n",
      "...             ...      ...      ...      ...\n",
      "2014-11-13  0.01628  0.01629  0.01623  0.01624\n",
      "2014-11-12  0.01625  0.01629  0.01623  0.01629\n",
      "2014-11-11  0.01624  0.01626  0.01624  0.01624\n",
      "2014-11-10  0.01628  0.01629  0.01622  0.01624\n",
      "2014-11-07  0.01622  0.01629  0.01622  0.01628\n",
      "\n",
      "[2075 rows x 4 columns]\n",
      "<class 'pandas.core.frame.DataFrame'>\n",
      "DatetimeIndex: 2075 entries, 2022-10-21 to 2014-11-07\n",
      "Data columns (total 4 columns):\n",
      " #   Column  Non-Null Count  Dtype  \n",
      "---  ------  --------------  -----  \n",
      " 0   Open    2075 non-null   float64\n",
      " 1   High    2075 non-null   float64\n",
      " 2   Low     2075 non-null   float64\n",
      " 3   Close   2075 non-null   float64\n",
      "dtypes: float64(4)\n",
      "memory usage: 81.1 KB\n"
     ]
    },
    {
     "data": {
      "text/html": [
       "<div>\n",
       "<style scoped>\n",
       "    .dataframe tbody tr th:only-of-type {\n",
       "        vertical-align: middle;\n",
       "    }\n",
       "\n",
       "    .dataframe tbody tr th {\n",
       "        vertical-align: top;\n",
       "    }\n",
       "\n",
       "    .dataframe thead th {\n",
       "        text-align: right;\n",
       "    }\n",
       "</style>\n",
       "<table border=\"1\" class=\"dataframe\">\n",
       "  <thead>\n",
       "    <tr style=\"text-align: right;\">\n",
       "      <th></th>\n",
       "      <th>Open</th>\n",
       "      <th>High</th>\n",
       "      <th>Low</th>\n",
       "      <th>Close</th>\n",
       "    </tr>\n",
       "    <tr>\n",
       "      <th>Date</th>\n",
       "      <th></th>\n",
       "      <th></th>\n",
       "      <th></th>\n",
       "      <th></th>\n",
       "    </tr>\n",
       "  </thead>\n",
       "  <tbody>\n",
       "    <tr>\n",
       "      <th>2014-11-13</th>\n",
       "      <td>0.01628</td>\n",
       "      <td>0.01629</td>\n",
       "      <td>0.01623</td>\n",
       "      <td>0.01624</td>\n",
       "    </tr>\n",
       "    <tr>\n",
       "      <th>2014-11-12</th>\n",
       "      <td>0.01625</td>\n",
       "      <td>0.01629</td>\n",
       "      <td>0.01623</td>\n",
       "      <td>0.01629</td>\n",
       "    </tr>\n",
       "    <tr>\n",
       "      <th>2014-11-11</th>\n",
       "      <td>0.01624</td>\n",
       "      <td>0.01626</td>\n",
       "      <td>0.01624</td>\n",
       "      <td>0.01624</td>\n",
       "    </tr>\n",
       "    <tr>\n",
       "      <th>2014-11-10</th>\n",
       "      <td>0.01628</td>\n",
       "      <td>0.01629</td>\n",
       "      <td>0.01622</td>\n",
       "      <td>0.01624</td>\n",
       "    </tr>\n",
       "    <tr>\n",
       "      <th>2014-11-07</th>\n",
       "      <td>0.01622</td>\n",
       "      <td>0.01629</td>\n",
       "      <td>0.01622</td>\n",
       "      <td>0.01628</td>\n",
       "    </tr>\n",
       "  </tbody>\n",
       "</table>\n",
       "</div>"
      ],
      "text/plain": [
       "               Open     High      Low    Close\n",
       "Date                                          \n",
       "2014-11-13  0.01628  0.01629  0.01623  0.01624\n",
       "2014-11-12  0.01625  0.01629  0.01623  0.01629\n",
       "2014-11-11  0.01624  0.01626  0.01624  0.01624\n",
       "2014-11-10  0.01628  0.01629  0.01622  0.01624\n",
       "2014-11-07  0.01622  0.01629  0.01622  0.01628"
      ]
     },
     "execution_count": 27,
     "metadata": {},
     "output_type": "execute_result"
    }
   ],
   "source": [
    "#9. Extracting the Actual Forex Rates of Oct-22, 2022\n",
    "url_test = 'https://www.alphavantage.co/query?function=FX_DAILY&outputsize=full&from_symbol=INR&to_symbol=USD&apikey=4B1MJYHIH3MK5EEC'\n",
    "r_test = requests.get(url_test)\n",
    "data_test = r_test.json()\n",
    "df_test = pd.DataFrame.from_dict(data_test['Time Series FX (Daily)'], orient ='index')\n",
    "df_test.index.name='Date'\n",
    "df_test = df_test.set_index(pd.to_datetime(df_test.index))\n",
    "df_test.rename(columns = {'1. open':'Open', '2. high':'High', '3. low':'Low', '4. close':'Close'}, inplace = True)\n",
    "df_test['Open'] = df_test['Open'].astype(float, errors = 'raise')\n",
    "df_test['High'] = df_test['High'].astype(float, errors = 'raise')\n",
    "df_test['Low'] = df_test['Low'].astype(float, errors = 'raise')\n",
    "df_test['Close'] = df_test['Close'].astype(float, errors = 'raise')\n",
    "print(df_test)\n",
    "df_test.info()\n",
    "df_test.tail()"
   ]
  },
  {
   "cell_type": "code",
   "execution_count": 34,
   "id": "9fa42d73",
   "metadata": {},
   "outputs": [
    {
     "name": "stdout",
     "output_type": "stream",
     "text": [
      "[[0.0121 ]\n",
      " [0.01208]\n",
      " [0.01204]\n",
      " ...\n",
      " [0.01624]\n",
      " [0.01624]\n",
      " [0.01628]]\n",
      "(2075, 1)\n",
      "Number of rows in testing set is: 2075\n"
     ]
    }
   ],
   "source": [
    "#Use the Close Stock Price Column to Train the Model.\n",
    "actual_forex_rate = df_test.iloc[:,3:4].values\n",
    "print(actual_forex_rate)\n",
    "print(actual_forex_rate.shape)\n",
    "print(\"Number of rows in testing set is: \"+str(len(actual_forex_rate)))"
   ]
  },
  {
   "cell_type": "code",
   "execution_count": 37,
   "id": "b001049e",
   "metadata": {},
   "outputs": [
    {
     "name": "stdout",
     "output_type": "stream",
     "text": [
      "inputs before scaler transform: [0.01618 0.01629 0.01629 ... 0.01624 0.01628 0.01622]\n",
      "inputs after scaler transform: [[0.97411765]\n",
      " [1.        ]\n",
      " [1.        ]\n",
      " ...\n",
      " [0.98823529]\n",
      " [0.99764706]\n",
      " [0.98352941]]\n"
     ]
    },
    {
     "data": {
      "text/plain": [
       "array([[[0.97411765],\n",
       "        [1.        ],\n",
       "        [1.        ],\n",
       "        ...,\n",
       "        [0.98823529],\n",
       "        [0.99764706],\n",
       "        [0.98352941]],\n",
       "\n",
       "       [[1.        ],\n",
       "        [1.        ],\n",
       "        [0.99294118],\n",
       "        ...,\n",
       "        [0.99764706],\n",
       "        [0.98352941],\n",
       "        [0.00705882]],\n",
       "\n",
       "       [[1.        ],\n",
       "        [0.99294118],\n",
       "        [0.99529412],\n",
       "        ...,\n",
       "        [0.98352941],\n",
       "        [0.00705882],\n",
       "        [0.        ]],\n",
       "\n",
       "       ...,\n",
       "\n",
       "       [[0.89176471],\n",
       "        [0.86823529],\n",
       "        [0.86823529],\n",
       "        ...,\n",
       "        [0.96235294],\n",
       "        [0.97647059],\n",
       "        [0.97176471]],\n",
       "\n",
       "       [[0.86823529],\n",
       "        [0.86823529],\n",
       "        [0.88470588],\n",
       "        ...,\n",
       "        [0.97647059],\n",
       "        [0.97176471],\n",
       "        [0.98588235]],\n",
       "\n",
       "       [[0.86823529],\n",
       "        [0.88470588],\n",
       "        [0.90352941],\n",
       "        ...,\n",
       "        [0.97176471],\n",
       "        [0.98588235],\n",
       "        [0.97647059]]])"
      ]
     },
     "execution_count": 37,
     "metadata": {},
     "output_type": "execute_result"
    }
   ],
   "source": [
    "#Preparing the Input for the Model.\n",
    "dataset_total = pd.concat((df['Open'], df_test['Open']), axis=0)\n",
    "inputs = dataset_total[len(dataset_total) - len(df_test)-60:].values\n",
    "print(\"inputs before scaler transform: \"+str(inputs))\n",
    "\n",
    "inputs = inputs.reshape(-1,1)\n",
    "inputs = scaler.transform(inputs)\n",
    "print(\"inputs after scaler transform: \"+str(inputs))\n",
    "\n",
    "x_test = []\n",
    "for i in range(60,len(actual_forex_rate)):\n",
    "    x_test.append(inputs[i-60:i,0])\n",
    "x_test = np.array(x_test)\n",
    "x_test = np.reshape(x_test,(x_test.shape[0], x_test.shape[1], 1))\n",
    "x_test\n"
   ]
  },
  {
   "cell_type": "code",
   "execution_count": 38,
   "id": "4144a5e8",
   "metadata": {},
   "outputs": [
    {
     "data": {
      "text/plain": [
       "<matplotlib.legend.Legend at 0x7fe7104c4ad0>"
      ]
     },
     "execution_count": 38,
     "metadata": {},
     "output_type": "execute_result"
    },
    {
     "data": {
      "image/png": "[encoded data removed]",
      "text/plain": [
       "<Figure size 432x288 with 1 Axes>"
      ]
     },
     "metadata": {
      "needs_background": "light"
     },
     "output_type": "display_data"
    }
   ],
   "source": [
    "#Predicting the Values for Oct/Nov rates\n",
    "\n",
    "predicted_forex_rate = regressor.predict(x_test)\n",
    "predicted_forex_rate = scaler.inverse_transform(predicted_forex_rate)\n",
    "\n",
    "plt.plot(actual_forex_rate, color = 'red', label = 'Actual rate')\n",
    "plt.plot(predicted_forex_rate, color = 'blue', label = 'Predicted rate')\n",
    "plt.title('Forex Prediction')\n",
    "plt.xlabel('Time')\n",
    "plt.ylabel('Forex Rate')\n",
    "plt.legend()"
   ]
  },
  {
   "cell_type": "code",
   "execution_count": null,
   "id": "bd9d7f90",
   "metadata": {},
   "outputs": [],
   "source": []
  }
 ],
 "metadata": {
  "kernelspec": {
   "display_name": "Python 3 (ipykernel)",
   "language": "python",
   "name": "python3"
  },
  "language_info": {
   "codemirror_mode": {
    "name": "ipython",
    "version": 3
   },
   "file_extension": ".py",
   "mimetype": "text/x-python",
   "name": "python",
   "nbconvert_exporter": "python",
   "pygments_lexer": "ipython3",
   "version": "3.7.13"
  }
 },
 "nbformat": 4,
 "nbformat_minor": 5
}
