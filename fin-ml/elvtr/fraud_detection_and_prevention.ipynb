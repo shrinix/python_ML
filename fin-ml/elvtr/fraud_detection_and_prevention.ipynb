{
 "cells": [
  {
   "cell_type": "markdown",
   "id": "813d3678",
   "metadata": {},
   "source": [
    "#  Coding Assignment #3 - Fraud Detection Models"
   ]
  },
  {
   "cell_type": "markdown",
   "id": "6578b98d",
   "metadata": {},
   "source": [
    "# Introduction to Fraud Detection Assignment\n",
    "\n",
    "In this assignment, you will embark on an analytical journey to explore and model a dataset of card transactions with the aim of detecting fraudulent activities. The provided dataset includes various features such as distance from home, transaction details, and purchase patterns, which are essential in understanding the characteristics of fraudulent transactions. You will use Python and key machine learning libraries to analyze this dataset, build a classification model, and evaluate its performance.\n",
    "\n",
    "## Base Code Provided\n",
    "- The base code includes necessary Python imports and a decision tree model for initial analysis.\n",
    "- You will start with a dataset of card transactions, exploring its structure, summary statistics, and event rate.\n",
    "- The base code will guide you through data loading, preprocessing, model training, and evaluation.\n",
    "- A visual representation of the decision tree will be created to help understand the model's decision-making process.\n",
    "\n",
    "## Your Tasks\n",
    "- **Data Analysis**: Deepen your understanding of the dataset by performing additional exploratory data analysis.\n",
    "- **Model Building and Evaluation**: Beyond the decision tree, experiment with another model such as Random Forest to compare performance.\n",
    "- **Performance Metrics**: Evaluate models using metrics like precision, recall, and F1-score, and understand the implications of these metrics in the context of fraud detection.\n",
    "- **Advanced Techniques** (Extra Credit): Implement data balancing, feature importance analysis, and cross-validation to enhance model performance and robustness.\n",
    "\n",
    "## Learning Outcomes\n",
    "- Gain practical experience in handling real-world datasets.\n",
    "- Develop skills in building and evaluating classification models.\n",
    "- Learn to interpret model results and make data-driven decisions.\n",
    "- Explore advanced machine learning techniques (optional extra credit).\n",
    "\n",
    "## Submission Guidelines\n",
    "- Submit your enhanced code with clear documentation and comments.\n",
    "- Include a report or inline comments analyzing your findings and model performances.\n",
    "- Ensure your code is clean, well-organized, and reproducible.\n"
   ]
  },
  {
   "cell_type": "markdown",
   "id": "384a84b9",
   "metadata": {},
   "source": [
    "## Fraud Detection Model Workflow Summary\n",
    "\n",
    "1. **Import Libraries**\n",
    "   - `pandas` for data handling.\n",
    "   - `numpy` for numerical operations.\n",
    "   - `sklearn` for machine learning tools.\n",
    "   - `matplotlib` for data visualization.\n",
    "\n",
    "2. **Load Dataset**\n",
    "   - Data is loaded from a remote URL using `pandas.read_csv`.\n",
    "\n",
    "3. **Initial Data Exploration**\n",
    "   - Initial examination using `data.head()` and `data.tail()` to understand dataset structure.\n",
    "\n",
    "4. **Data Preparation**\n",
    "   - Features (`X`) and target variable (`y`) are defined.\n",
    "   - `fraud` column is the target, while others are features.\n",
    "\n",
    "5. **Data Splitting**\n",
    "   - Dataset is split into training and test sets.\n",
    "   - `train_test_split` is used, with a test size of 20%.\n",
    "\n",
    "6. **Model Initialization**\n",
    "   - Decision Tree Classifier initialized with a maximum depth of 3.\n",
    "   - Limits complexity and overfitting of the model.\n",
    "\n",
    "7. **Model Training**\n",
    "   - Model is trained using the training set (`X_train`, `y_train`).\n",
    "\n",
    "8. **Prediction and Evaluation**\n",
    "   - Model predictions made on the test set.\n",
    "   - Evaluation using accuracy, confusion matrix, and classification report.\n",
    "\n",
    "9. **Visualization**\n",
    "   - Decision tree visualized using `matplotlib` and `sklearn.tree.plot_tree`.\n",
    "   - Helps in understanding the decision-making process of the model.\n",
    "\n",
    "# Commentary\n",
    "- This code effectively demonstrates the end-to-end process of a machine learning project.\n",
    "- Decision trees are a good choice for fraud detection due to their interpretability.\n",
    "- The model is simple yet provides a decent understanding of the basic approach to fraud detection in financial transactions.\n",
    "- Visualization is a key aspect, especially in complex domains like fraud detection, for understanding the model's decision criteria."
   ]
  },
  {
   "cell_type": "markdown",
   "id": "c4949558",
   "metadata": {},
   "source": [
    "# Model Performance Analysis and Commentary\n",
    "\n",
    "- **Data Overview**\n",
    "  - First 5 rows show a mix of numerical features like `distance_from_home`, `distance_from_last_transaction`, etc., crucial for predicting fraud.\n",
    "  - Summary statistics indicate a varied distribution of values, with some features having a wide range (e.g., `distance_from_home`).\n",
    "\n",
    "- **Model Accuracy**\n",
    "  - High accuracy of 98% suggests the model is very effective in classifying transactions as fraudulent or non-fraudulent.\n",
    "\n",
    "- **Confusion Matrix Analysis**\n",
    "  - Low number of false positives (2481) and false negatives (1646) compared to true positives and negatives.\n",
    "  - Indicates a good balance in identifying both fraudulent and non-fraudulent transactions accurately.\n",
    "\n",
    "- **Classification Report Insights**\n",
    "  - High precision (0.99) for class 0 (Non-Fraud) and good precision (0.86) for class 1 (Fraud).\n",
    "  - Recall is also high for both classes, especially for class 1 (0.91), which is critical in fraud detection.\n",
    "  - F1-scores are robust, indicating a balanced model considering both precision and recall.\n",
    "\n",
    "- **Overall Evaluation**\n",
    "  - The decision tree model shows excellent performance in identifying fraud.\n",
    "  - The balance between precision and recall, especially for fraud detection (class 1), is commendable.\n",
    "  - High accuracy combined with the detailed metrics suggest a well-tuned model for this dataset.\n",
    "  - The model could be further improved by exploring feature engineering, trying other algorithms, or tuning hyperparameters.\n"
   ]
  },
  {
   "cell_type": "code",
   "execution_count": null,
   "id": "6b780f80",
   "metadata": {},
   "outputs": [],
   "source": []
  },
  {
   "cell_type": "markdown",
   "id": "deed417b",
   "metadata": {},
   "source": [
    "# Coding Assignment:  Comparative Analysis of Fraud Detection Models\n",
    "\n",
    "## Objective\n",
    "Enhance your skills in model evaluation and comparison in a real-world application: fraud detection. Using the provided Decision Tree model and dataset of card transactions, you will build a Random Forest model and compare its performance against the Decision Tree model.\n",
    "\n",
    "## Tasks\n",
    "1. **Model Building**:\n",
    "   - Build a Random Forest model using the provided dataset.\n",
    "2. **Model Evaluation**:\n",
    "   - Calculate and interpret the precision and recall for the Random Forest model.\n",
    "   - Generate and interpret the confusion matrix for the Random Forest model.\n",
    "3. **Comparative Analysis**:\n",
    "   - Compare the performance of the Decision Tree and Random Forest models using precision, recall, and confusion matrices.\n",
    "   - Visualize the comparison using a bar chart.\n",
    "4. **Reflection and Discussion**:\n",
    "   - Discuss your findings, comparing the two models. Reflect on model performance, suitability for fraud detection, and potential issues like overfitting.\n",
    "\n",
    "## Grading Rubric\n",
    "\n",
    "**Total Points: 100**\n",
    "\n",
    "1. **Model Building (30 Points)**:\n",
    "   - Successfully building a Random Forest model: 30 points\n",
    "\n",
    "2. **Model Evaluation (40 Points)**:\n",
    "   - Correct calculation of precision and recall for the Random Forest model: 20 points\n",
    "   - Correct generation and interpretation of the Random Forest confusion matrix: 20 points\n",
    "\n",
    "3. **Comparative Analysis (20 Points)**:\n",
    "   - Accurate comparison of model performance (including the provided Decision Tree model): 10 points\n",
    "   - Clear and correct visualization using a bar chart: 10 points\n",
    "\n",
    "4. **Reflection and Discussion (10 Points)**:\n",
    "   - Cohesive and thoughtful discussion comparing the two models: 10 points\n",
    "\n",
    "## Submission Guidelines\n",
    "- Submit your work in a Jupyter Notebook or as a Python script with comments explaining your steps. You can also include your discussion in the notebook, as comments in your script, or in a separate text file.\n",
    "- Ensure your plots and tables are clearly labeled and legible.\n",
    "\n",
    "## Notes\n",
    "- Be sure to demonstrate your understanding of the task and the models.\n"
   ]
  },
  {
   "cell_type": "code",
   "execution_count": 2,
   "metadata": {},
   "outputs": [],
   "source": [
    "#!pip install pprintpp\n",
    "#!pip install scipy"
   ]
  },
  {
   "cell_type": "code",
   "execution_count": 3,
   "id": "2f4cbad6",
   "metadata": {},
   "outputs": [],
   "source": [
    "import pandas as pd\n",
    "import numpy as np\n",
    "from sklearn.model_selection import train_test_split\n",
    "from sklearn.tree import DecisionTreeClassifier\n",
    "from sklearn.metrics import accuracy_score, confusion_matrix, classification_report, precision_score, recall_score, f1_score, roc_curve, auc, roc_auc_score\n",
    "import matplotlib.pyplot as plt\n",
    "from sklearn.tree import plot_tree\n",
    "import requests\n",
    "import io\n",
    "import numpy as np\n",
    "import pandas as pd\n",
    "import seaborn as sns\n",
    "\n",
    "# Load the dataset\n",
    "#Comment the below 4 lines if you are loading the data from your local drive\n",
    "# url = 'https://raw.githubusercontent.com/marhcouto/fraud-detection/master/data/card_transdata.csv?raw=true'\n",
    "# #Use this code to overcome SSL verification error when accessing the above https URL\n",
    "# s = requests.get(url).content\n",
    "# data = pd.read_csv(io.StringIO(s.decode('utf-8')))\n",
    "\n",
    "#Check if running in Google Colab\n",
    "try:\n",
    "    import google.colab\n",
    "    IN_COLAB = True\n",
    "except:\n",
    "    IN_COLAB = False\n",
    "\n",
    "if IN_COLAB:\n",
    "    #Mount the google drive\n",
    "    from google.colab import drive\n",
    "    drive.mount('/content/drive')\n",
    "    data = pd.read_csv('/content/drive/MyDrive/card_transdata.csv') #Read the data from the csv file    \n",
    "else:\n",
    "    data = pd.read_csv('card_transdata.csv')"
   ]
  },
  {
   "cell_type": "code",
   "execution_count": 4,
   "metadata": {},
   "outputs": [],
   "source": [
    "# Set display options to control wrapping\n",
    "pd.set_option('display.max_columns', None)  # Do not truncate the list of columns\n",
    "pd.set_option('display.max_rows', None)     # Do not truncate the list of rows\n",
    "pd.set_option('display.width', 1000)        # Set the display width to a large value\n",
    "pd.set_option('display.max_colwidth', 50)   # Set the maximum column width\n",
    "pd.set_option('display.colheader_justify', 'left')  # Justify column headers to the left"
   ]
  },
  {
   "cell_type": "code",
   "execution_count": 5,
   "metadata": {},
   "outputs": [
    {
     "name": "stdout",
     "output_type": "stream",
     "text": [
      "\n",
      "Shape of data\n",
      "(1000000, 8)\n",
      "\n",
      "--- First 5 rows of data ---\n",
      "   distance_from_home  distance_from_last_transaction  ratio_to_median_purchase_price  repeat_retailer  used_chip  used_pin_number  online_order  fraud\n",
      "0  57.877857           0.311140                        1.945940                        1.0              1.0        0.0              0.0           0.0  \n",
      "1  10.829943           0.175592                        1.294219                        1.0              0.0        0.0              0.0           0.0  \n",
      "2   5.091079           0.805153                        0.427715                        1.0              0.0        0.0              1.0           0.0  \n",
      "3   2.247564           5.600044                        0.362663                        1.0              1.0        0.0              1.0           0.0  \n",
      "4  44.190936           0.566486                        2.222767                        1.0              1.0        0.0              1.0           0.0  \n",
      "\n",
      "--- Last 5 rows of data ---\n",
      "        distance_from_home  distance_from_last_transaction  ratio_to_median_purchase_price  repeat_retailer  used_chip  used_pin_number  online_order  fraud\n",
      "999995   2.207101           0.112651                        1.626798                        1.0              1.0        0.0              0.0           0.0  \n",
      "999996  19.872726           2.683904                        2.778303                        1.0              1.0        0.0              0.0           0.0  \n",
      "999997   2.914857           1.472687                        0.218075                        1.0              1.0        0.0              1.0           0.0  \n",
      "999998   4.258729           0.242023                        0.475822                        1.0              0.0        0.0              1.0           0.0  \n",
      "999999  58.108125           0.318110                        0.386920                        1.0              1.0        0.0              1.0           0.0  \n"
     ]
    }
   ],
   "source": [
    "#Examine dataset\n",
    "\n",
    "print(\"\\nShape of data\")\n",
    "print(data.shape)\n",
    "\n",
    "print(\"\\n--- First 5 rows of data ---\")\n",
    "print(data.head(5))\n",
    "\n",
    "print(\"\\n--- Last 5 rows of data ---\")\n",
    "print(data.tail(5))"
   ]
  },
  {
   "cell_type": "code",
   "execution_count": 6,
   "metadata": {},
   "outputs": [
    {
     "name": "stdout",
     "output_type": "stream",
     "text": [
      "\n",
      "--- Information about the data ---\n",
      "<class 'pandas.core.frame.DataFrame'>\n",
      "RangeIndex: 1000000 entries, 0 to 999999\n",
      "Data columns (total 8 columns):\n",
      " #   Column                          Non-Null Count    Dtype  \n",
      "---  ------                          --------------    -----  \n",
      " 0   distance_from_home              1000000 non-null  float64\n",
      " 1   distance_from_last_transaction  1000000 non-null  float64\n",
      " 2   ratio_to_median_purchase_price  1000000 non-null  float64\n",
      " 3   repeat_retailer                 1000000 non-null  float64\n",
      " 4   used_chip                       1000000 non-null  float64\n",
      " 5   used_pin_number                 1000000 non-null  float64\n",
      " 6   online_order                    1000000 non-null  float64\n",
      " 7   fraud                           1000000 non-null  float64\n",
      "dtypes: float64(8)\n",
      "memory usage: 61.0 MB\n",
      "None\n"
     ]
    }
   ],
   "source": [
    "#print info\n",
    "print(\"\\n--- Information about the data ---\")\n",
    "print(data.info())"
   ]
  },
  {
   "cell_type": "markdown",
   "metadata": {},
   "source": [
    "<B>Observation:</B> The dataset has the following columns:\n",
    "\n",
    "- <b>distance_from_home:</b> Distance of the retailer where transaction was made, from home of the customer, in miles.\n",
    "- <b>distance_from_last_transaction:</b> Distance of current transaction from the prior transaction, in miles.\n",
    "- <b>ratio_to_median_purchase_price:</b> This variable shows how that purchase price in the transaction compares to the average price in the dataset. A value of 1 indicates that the purchase price is same as the average price, a value > 1 indicates that the item purchased is more expensive than the median, while a value < 1 indicates it's cheaper.\n",
    "- <b>repeat_retailer:</b> This is an indicator variable that indicates if there were multiple transactions made with specific retailers 0 = No, 1 = Yes. Note that the actual details of the retailer are not provided.\n",
    "- <b>used_chip:</b> Indicator variable to show if the customer used a card with a chip or not (0 = No, 1 = Yes)\n",
    "- <b>used_pin_number:</b> This is an indicator variable to show if the customer used a pin or not (0 = No, 1 = Yes)\n",
    "- <b>online_order:</b> This is an indicator variable to show if this was an online order or not (0 = No, 1 = Yes)\n",
    "- <b>fraud:</b> The target variable indicating if the given transaction was fraudulent or not. (0 = No, 1 = Yes)"
   ]
  },
  {
   "cell_type": "code",
   "execution_count": 7,
   "metadata": {},
   "outputs": [
    {
     "name": "stdout",
     "output_type": "stream",
     "text": [
      "\n",
      "--- Summary Statistics ---\n",
      "                                count      mean   std    min  25%   50%   75%    max     \n",
      "distance_from_home              1000000.0  26.63  65.39  0.0  3.88  9.97  25.74  10632.72\n",
      "distance_from_last_transaction  1000000.0   5.04  25.84  0.0  0.30  1.00   3.36  11851.10\n",
      "ratio_to_median_purchase_price  1000000.0   1.82   2.80  0.0  0.48  1.00   2.10    267.80\n",
      "repeat_retailer                 1000000.0   0.88   0.32  0.0  1.00  1.00   1.00      1.00\n",
      "used_chip                       1000000.0   0.35   0.48  0.0  0.00  0.00   1.00      1.00\n",
      "used_pin_number                 1000000.0   0.10   0.30  0.0  0.00  0.00   0.00      1.00\n",
      "online_order                    1000000.0   0.65   0.48  0.0  0.00  1.00   1.00      1.00\n",
      "fraud                           1000000.0   0.09   0.28  0.0  0.00  0.00   0.00      1.00\n"
     ]
    }
   ],
   "source": [
    "# Print summary stats\n",
    "print(\"\\n--- Summary Statistics ---\")\n",
    "print(np.round(data.describe().T,2))"
   ]
  },
  {
   "cell_type": "markdown",
   "metadata": {},
   "source": [
    "<B>Observations from Summary Statistics:</B>\n",
    "\n",
    "- The columns distance_from_home and distance_from_last_transaction are skewed since their mean and median values are not the same.\n",
    "- The columns distance_from_home, distance_from_last_transaction and ratio_to_median_purchase_price appears to have outliers since their max values are much higher than the mean values. This is also confirmed by the box plots below.\n",
    "- The column repeat_retailer has more 1 values than 0 since it's mean value is > 0.5.\n",
    "- The column used_chip has more 0 values than 1 since it's mean value is < 0.5.\n",
    "- The column used_pin_number has more 0 values than 1 since it's mean value is < 0.5.\n",
    "- The column online_order has more 1 values than 0 since it's mean value is > 0.5.\n"
   ]
  },
  {
   "cell_type": "code",
   "execution_count": 8,
   "metadata": {},
   "outputs": [
    {
     "name": "stdout",
     "output_type": "stream",
     "text": [
      "\n",
      "--- Event Rate ---\n",
      "Event Rate: 8.74%\n"
     ]
    }
   ],
   "source": [
    "# Event rate\n",
    "print(\"\\n--- Event Rate ---\")\n",
    "event_rate = data['fraud'].mean() * 100\n",
    "print(f'Event Rate: {event_rate:.2f}%')"
   ]
  },
  {
   "cell_type": "markdown",
   "metadata": {},
   "source": [
    "<B>Observations:</B> \n",
    "- Fraud detection datasets are often highly imbalanced, with a small percentage of transactions being fraudulent. The event rate helps quantify this imbalance, which is essential for selecting appropriate modeling techniques and evaluation metrics.\n",
    "- An event rate of 8.74% indicates that the dataset is imbalanced, with a relatively small proportion of transactions being fraudulent. This is common in fraud detection datasets, where the majority of transactions are legitimate."
   ]
  },
  {
   "cell_type": "markdown",
   "metadata": {},
   "source": [
    "<H4>Check for missing values and duplicate rows</H4>"
   ]
  },
  {
   "cell_type": "code",
   "execution_count": 9,
   "metadata": {},
   "outputs": [
    {
     "name": "stdout",
     "output_type": "stream",
     "text": [
      "\n",
      "--- Check for duplicates ---\n",
      "0\n"
     ]
    }
   ],
   "source": [
    "#Check for duplicates\n",
    "print(\"\\n--- Check for duplicates ---\")\n",
    "dups = data.duplicated()\n",
    "print(dups.sum())"
   ]
  },
  {
   "cell_type": "markdown",
   "metadata": {},
   "source": [
    "<B>Observation:</B> There are no duplicate rows in the dataset."
   ]
  },
  {
   "cell_type": "code",
   "execution_count": 10,
   "metadata": {},
   "outputs": [
    {
     "name": "stdout",
     "output_type": "stream",
     "text": [
      "\n",
      "--- Missing Values ---\n",
      "distance_from_home                0\n",
      "distance_from_last_transaction    0\n",
      "ratio_to_median_purchase_price    0\n",
      "repeat_retailer                   0\n",
      "used_chip                         0\n",
      "used_pin_number                   0\n",
      "online_order                      0\n",
      "fraud                             0\n",
      "dtype: int64\n"
     ]
    }
   ],
   "source": [
    "#Check for missing values\n",
    "print(\"\\n--- Missing Values ---\")\n",
    "print(data.isna().sum())"
   ]
  },
  {
   "cell_type": "markdown",
   "metadata": {},
   "source": [
    "<B>Observation:</B> There are no missing values in the dataset."
   ]
  },
  {
   "cell_type": "code",
   "execution_count": 11,
   "metadata": {},
   "outputs": [
    {
     "name": "stdout",
     "output_type": "stream",
     "text": [
      "\n",
      "--- Boxplots for detecting outliers---\n"
     ]
    },
    {
     "data": {
      "image/png": "[encoded data removed]",
      "text/plain": [
       "<Figure size 2000x1000 with 1 Axes>"
      ]
     },
     "metadata": {},
     "output_type": "display_data"
    }
   ],
   "source": [
    "#Draw horizontal boxplots for the continuous variables and look for outliers\n",
    "#rotate the display of the x-axis labels for easy reading\n",
    "print(\"\\n--- Boxplots for detecting outliers---\")\n",
    "#do not show box plots for the 'boolean' variables : 'repeat_retailer', 'used_chip', 'used_pin_number', 'online_order' and 'fraud'\n",
    "box_plot_data = data.drop(['repeat_retailer', 'used_chip', 'used_pin_number', 'online_order', 'fraud'], axis=1)\n",
    "plt.figure(figsize=(20,10))\n",
    "sns.boxplot(data=box_plot_data, orient='h')\n",
    "#increase the font size of x-axis and y-axis labels for easy reading\n",
    "plt.xticks(fontsize=14)\n",
    "plt.yticks(fontsize=14)\n",
    "plt.xticks(rotation=90)\n",
    "plt.show()"
   ]
  },
  {
   "cell_type": "code",
   "execution_count": null,
   "metadata": {},
   "outputs": [
    {
     "name": "stdout",
     "output_type": "stream",
     "text": [
      "\n",
      "--- Counts of Outliers for each Column ---\n",
      "distance_from_home                103631\n",
      "distance_from_last_transaction    124367\n",
      "ratio_to_median_purchase_price     84386\n",
      "repeat_retailer                   118464\n",
      "used_chip                              0\n",
      "used_pin_number                   100608\n",
      "online_order                           0\n",
      "fraud                              87403\n",
      "dtype: int64\n",
      "\n",
      "--- Rows with Outliers ---\n"
     ]
    }
   ],
   "source": [
    "#List the outliers in the dataset\n",
    "print(\"\\n--- Counts of Outliers for each Column ---\")\n",
    "Q1 = data.quantile(0.25)\n",
    "Q3 = data.quantile(0.75)\n",
    "IQR = Q3 - Q1\n",
    "outliers = ((data < (Q1 - 1.5 * IQR)) | (data > (Q3 + 1.5 * IQR))).sum()\n",
    "print(outliers)\n",
    "\n",
    "#Print the rows with outliers in the dataset\n",
    "print(\"\\n--- Rows with Outliers ---\")\n",
    "print(data[((data < (Q1 - 1.5 * IQR)) | (data > (Q3 + 1.5 * IQR))).any(axis=1)])\n",
    "\n",
    "#Print the count of rows with outliers\n",
    "print(\"\\n--- Count of Rows with Outliers ---\")\n",
    "print(data[((data < (Q1 - 1.5 * IQR)) | (data > (Q3 + 1.5 * IQR))).any(axis=1)].shape)"
   ]
  },
  {
   "cell_type": "code",
   "execution_count": null,
   "metadata": {},
   "outputs": [],
   "source": [
    "#check the count of rows with outliers that are fraud and non-fraud\n",
    "print(\"\\n--- Count of Rows with Outliers that are Fraud and Non-Fraud ---\")\n",
    "print(data[((data < (Q1 - 1.5 * IQR)) | (data > (Q3 + 1.5 * IQR))).any(axis=1)]['fraud'].value_counts())"
   ]
  },
  {
   "cell_type": "markdown",
   "metadata": {},
   "source": [
    "<B>Observations</B>\n",
    "- Nearly half the dataset has outliers.\n",
    "- Also, a large number of rows (~360K) contain outliers and yet represent non-fraudulent data.\n",
    "- Hence we will not treat the outliers and let them remain."
   ]
  },
  {
   "cell_type": "code",
   "execution_count": null,
   "metadata": {},
   "outputs": [],
   "source": [
    "#Create a line plot of the numeric columns\n",
    "print(\"\\n--- Line plots for numeric columns ---\")\n",
    "plt.figure(figsize=(20,10))\n",
    "#exclude the indicator columns from the line plot, as they are binary\n",
    "#exclude the fraud column as it is the target variable\n",
    "numeric_columns_all = data.select_dtypes(include=['int64', 'float64']).columns\n",
    "numeric_columns = numeric_columns_all.drop(['fraud', 'used_chip', 'used_pin_number', 'online_order', 'repeat_retailer'])\n",
    "#create separate line plots for each column\n",
    "for i, col in enumerate(numeric_columns):\n",
    "    plt.subplot(3, 1, i+1)\n",
    "    plt.plot(data[col])\n",
    "    plt.title(col)\n",
    "plt.tight_layout()\n",
    "plt.show()"
   ]
  },
  {
   "cell_type": "markdown",
   "metadata": {},
   "source": [
    "<H4>Data Imbalance</H3>"
   ]
  },
  {
   "cell_type": "code",
   "execution_count": null,
   "metadata": {},
   "outputs": [],
   "source": [
    "#Check for data imbalance\n",
    "print(\"\\n--- Data Imbalance ---\")\n",
    "print(data['fraud'].value_counts())\n",
    "\n",
    "#Plot the data imbalance\n",
    "import matplotlib.pyplot as plt\n",
    "import seaborn as sns\n",
    "\n",
    "#Plot histogram of the target variable to show the imbalance in the dataset\n",
    "plt.figure(figsize=(10,6))\n",
    "\n",
    "ax = sns.histplot(data['fraud'], kde=True, color=\"red\")\n",
    "plt.title('Histogram of Fraud')\n",
    "# Annotate the counts on top of the bars\n",
    "for p in ax.patches:\n",
    "    height = p.get_height()\n",
    "    ax.annotate(f'{int(height)}', (p.get_x() + p.get_width() / 2., height),\n",
    "                ha='center', va='center', xytext=(0, 10), textcoords='offset points')\n",
    "plt.show()"
   ]
  },
  {
   "cell_type": "markdown",
   "metadata": {},
   "source": [
    "<B>Observation:</B> The dataset is imbalanced as the target variable 'fraud' has a low number of rows (87403) for the class i.e fraud = Yes (1), and a very large number of rows (912597) for the class i.e. fraud = No (0). \n",
    "This is somewhat expected since, in a normal situation, the vast majority of financial transactions should be valid and only a minority should be fraudulent."
   ]
  },
  {
   "cell_type": "markdown",
   "metadata": {},
   "source": [
    "<H3>Bivariate Analysis<H3>"
   ]
  },
  {
   "cell_type": "markdown",
   "metadata": {},
   "source": [
    "In this section we analyze pairs of variables to look for correlations between them."
   ]
  },
  {
   "cell_type": "markdown",
   "metadata": {},
   "source": [
    "<H4>Correlation Heatmap</H4>"
   ]
  },
  {
   "cell_type": "code",
   "execution_count": null,
   "metadata": {},
   "outputs": [],
   "source": [
    "#Check for correlation between the variables\n",
    "print(\"\\n--- Correlation between Variables ---\")\n",
    "correlation = data.corr()\n",
    "print(correlation)\n",
    "\n",
    "#increase the font size of the labels in the heatmap\n",
    "sns.set(font_scale=1.4)\n",
    "\n",
    "#Plot the correlation matrix\n",
    "plt.figure(figsize=(20,10))\n",
    "sns.heatmap(correlation, annot=True, cmap='coolwarm', fmt=\".2f\")\n",
    "plt.show()"
   ]
  },
  {
   "cell_type": "markdown",
   "metadata": {},
   "source": [
    "<H4>Bar chart showing correlation of columns w.r.t target variable</H4>"
   ]
  },
  {
   "cell_type": "code",
   "execution_count": null,
   "metadata": {},
   "outputs": [],
   "source": [
    "#plot a bar chart of the correlation values of the variables with the target variable\n",
    "print(\"\\n--- Correlation with Target Variable ---\")\n",
    "\n",
    "#set the font size chart\n",
    "plt.rcParams.update({'font.size': 10})\n",
    "#set the font size for the x and y axis labels\n",
    "plt.rcParams.update({'xtick.labelsize': 10, 'ytick.labelsize': 10})\n",
    "\n",
    "#change the color of the bars to light blue\n",
    "#rotate the chart horizontally for easy reading\n",
    "correlation['fraud'].sort_values(ascending=False).plot(kind='barh', color='lightblue')\n",
    "\n",
    "#draw a vertical line at 0\n",
    "plt.axvline(x=0, color='red', linewidth=0.5)\n",
    "#show the values at the end of the bars\n",
    "#add a gap between the end of the bar and the value\n",
    "for index, value in enumerate(correlation['fraud'].sort_values(ascending=False)):\n",
    "    plt.text(value, index, str(round(value,2)), va='center')\n",
    "#increase font size of title\n",
    "plt.title('Correlation with Target Variable', fontsize=12)\n",
    "plt.tight_layout()\n",
    "plt.show()"
   ]
  },
  {
   "cell_type": "markdown",
   "metadata": {},
   "source": [
    "<B>Correlation Observations:</B> \n",
    "- The 'ratio_to_median_purchase_price' feature variable shows a moderate positive correlation with the target variable 'fraud'. This implies that the purchase of higher value products is more often fraudulent than lower value products.\n",
    "- The variables 'online_order' and 'distance_from_home' also show a positive correlation with fraud, indicating that fraudulent transactions may typically occur online or when the customer is away from home.\n",
    "- The used_pin variable is negatively correlated with fraud, indicating that use of a pin could secure transactions against fraud.\n",
    "- The repeat_retailer does not have any correlation with the target variable. This implies that "
   ]
  },
  {
   "cell_type": "markdown",
   "metadata": {},
   "source": [
    "<H4>Pair Plots</H4>"
   ]
  },
  {
   "cell_type": "code",
   "execution_count": null,
   "metadata": {},
   "outputs": [],
   "source": [
    "#Note: Takes 1-2 minutes to run\n",
    "#Create a pairplot of the numeric columns\n",
    "print(\"\\n--- Pairplot of Numeric Columns ---\")\n",
    "#reduce the font size of the labels for better readability\n",
    "sns.set(font_scale=0.5)\n",
    "sns.pairplot(data[numeric_columns], diag_kind='kde')\n",
    "plt.tight_layout()\n",
    "plt.show()"
   ]
  },
  {
   "cell_type": "markdown",
   "metadata": {},
   "source": [
    "<H3>Scaling of numeric variables</H3>"
   ]
  },
  {
   "cell_type": "code",
   "execution_count": null,
   "metadata": {},
   "outputs": [],
   "source": [
    "#Create a line plot of the numeric columns\n",
    "print(\"\\n--- Line plots for numeric columns after min-max and standard scaling ---\")\n",
    "plt.figure(figsize=(20,10))\n",
    "#exclude the indicator columns from the line plot, as they are binary\n",
    "#exclude the fraud column as it is the target variable\n",
    "numeric_columns_all = data.select_dtypes(include=['int64', 'float64']).columns\n",
    "numeric_columns = numeric_columns_all.drop(['fraud', 'used_chip', 'used_pin_number', 'online_order', 'repeat_retailer'])\n",
    "#create separate line plots for each column\n",
    "for i, col in enumerate(numeric_columns):\n",
    "    #increase the font size of the title for better readability\n",
    "    plt.rc('axes', titlesize=10)\n",
    "    \n",
    "    #increase the x and y axis font size for better readability\n",
    "    plt.rc('xtick', labelsize=10)\n",
    "    plt.rc('ytick', labelsize=10)\n",
    "\n",
    "    plt.subplot(3, 1, i+1)\n",
    "    plt.plot(data[col])\n",
    "    plt.title(col, fontsize=12)\n",
    "plt.tight_layout()\n",
    "plt.show()"
   ]
  },
  {
   "cell_type": "markdown",
   "metadata": {},
   "source": [
    "<B>Observation:</B> Due to standard scaling, all feature columns now have means close to 0 and standard deviations close to 1. "
   ]
  },
  {
   "cell_type": "markdown",
   "metadata": {},
   "source": [
    "<B>Prepare Dataset for Training:</B>"
   ]
  },
  {
   "cell_type": "code",
   "execution_count": null,
   "metadata": {},
   "outputs": [],
   "source": [
    "# Define the atrributes (X) and the label (y)\n",
    "X = data.drop('fraud', axis=1)\n",
    "y = data['fraud']\n",
    "\n",
    "# Split the dataset into training and testing sets\n",
    "# Use stratification to ensure that the event rate is maintained in the training and testing sets\n",
    "X_train, X_test, y_train, y_test = train_test_split(X, y, test_size=0.2, random_state=42, stratify=y)\n",
    "\n",
    "print(\"\\n Shape of features in the training data\")\n",
    "print(X_train.shape)\n",
    "\n",
    "print(\"\\n Shape of features in the test data\")\n",
    "print(X_test.shape)"
   ]
  },
  {
   "cell_type": "markdown",
   "metadata": {},
   "source": [
    "<H3>Model construction and training</H3>"
   ]
  },
  {
   "cell_type": "markdown",
   "metadata": {},
   "source": [
    "<H4>Decision Tree Classifier Model</H4>\n",
    "In this section, we will build and train a Decision Tree Classifier model. This model will just be used for comparision with the target model which is based on Random Forest algorithm."
   ]
  },
  {
   "cell_type": "code",
   "execution_count": null,
   "metadata": {},
   "outputs": [],
   "source": [
    "print(\"\\n--- Decision Tree Model Construction and Training ---\")\n",
    "\n",
    "# Initialize a decision tree classifier\n",
    "# max_depth is maximum number of levels in the tree\n",
    "# random_state is the seed value for the random number generator, to ensure reproducibility\n",
    "model_dt = DecisionTreeClassifier(max_depth=3, random_state=42) \n",
    "\n",
    "# Train the model on the training data\n",
    "model_dt.fit(X_train, y_train)"
   ]
  },
  {
   "cell_type": "markdown",
   "metadata": {},
   "source": [
    "<H4> Decision Tree Model Valuation:</H4>"
   ]
  },
  {
   "cell_type": "code",
   "execution_count": null,
   "metadata": {},
   "outputs": [],
   "source": [
    "\n",
    "print(\"\\n--- Decision Tree Model Performance Metrics ---\")\n",
    "\n",
    "# Make predictions on the test data\n",
    "y_pred_dt = model_dt.predict(X_test)\n",
    "\n",
    "# Evaluate the model\n",
    "accuracy_dt = accuracy_score(y_test, y_pred_dt)\n",
    "precision_dt = precision_score(y_test, y_pred_dt)\n",
    "recall_dt = recall_score(y_test, y_pred_dt)\n",
    "f1_dt = f1_score(y_test, y_pred_dt)\n",
    "confusion_dt = confusion_matrix(y_test, y_pred_dt)\n",
    "classification_rep_dt = classification_report(y_test, y_pred_dt)\n",
    "\n",
    "# Print the results\n",
    "print(\"\\n--- Decision Tree Confusion Matrix: ---\")\n",
    "print(confusion_dt)\n",
    "print(\"\\n--- Decision Tree Classification Report: ---\")\n",
    "print(classification_rep_dt)\n",
    "\n",
    "print(\"\\n--- Tree Diagram Of The Decision Tree Model ---\")\n",
    "# Visualize the decision tree\n",
    "plt.figure(figsize=(25, 10))\n",
    "plot_tree(model_dt, \n",
    "          filled=True, \n",
    "          feature_names=['distance_from_home', 'distance_from_last_transaction', 'ratio_to_median_purchase_price',\n",
    "                         'repeat_retailer', 'used_chip', 'used_pin_number', 'online_order'],\n",
    "          class_names=['Non-Fraud', 'Fraud'])\n",
    "plt.show()"
   ]
  },
  {
   "cell_type": "markdown",
   "metadata": {},
   "source": [
    "<B> Performance Evaluation for Decision Tree Model:</B>\n",
    "\n",
    "-Overall, the Decision Tree Model is performing well, with F1-score of 0.99 for class 0 (non-fraud) and 0.89 for class 1 (fraud)\n",
    "-Due to data imbalance, the precision (0.99) and recall (0.99) for class 0 (non-fraud) is higher than the precision (0.87) and recall (0.91) for class 1 (fraud) "
   ]
  },
  {
   "cell_type": "markdown",
   "metadata": {},
   "source": [
    "<H4> Random Forest Classifier Model </H4>\n",
    "In this section, we build and train a baseline Random Forest classifier model."
   ]
  },
  {
   "cell_type": "code",
   "execution_count": null,
   "metadata": {},
   "outputs": [],
   "source": [
    "#Utility function to plot the confusion matrix\n",
    "def plot_confusion_matrix(confusion_rf):\n",
    "    print(\"\\n--- Confusion Matrix: ---\")\n",
    "    disp = ConfusionMatrixDisplay(confusion_matrix=confusion_rf) \n",
    "\n",
    "    #Change the x-axis and y-axis labels: 0 - No Default, 1 - Default\n",
    "    disp = disp.plot(cmap='YlGn')\n",
    "    disp.ax_.set_xticklabels(['No Fraud', 'Fraud'], fontsize=8)\n",
    "    disp.ax_.set_yticklabels(['No Fraud', 'Fraud'], fontsize=8)\n",
    "\n",
    "    #Show the text True Positive, False Negative, False Positive, True Negative in the confusion matrix\n",
    "    disp.ax_.text(0, 0, f\"True Negatives\\n\\n\", ha=\"center\", va=\"center\", color=\"white\", fontsize=8)\n",
    "    disp.ax_.text(0, 1, f\"False Negatives\\n\\n\", ha=\"center\", va=\"center\", color=\"black\", fontsize=8)\n",
    "    disp.ax_.text(1, 0, f\"False Positives\\n\\n\", ha=\"center\", va=\"center\", color=\"black\", fontsize=8)\n",
    "    disp.ax_.text(1, 1, f\"True Positives\\n\\n\", ha=\"center\", va=\"center\", color=\"black\", fontsize=8)\n",
    "\n",
    "    # #Change the font size of the values but do not redisplay the text in the confusion matrix\n",
    "    # disp.ax_.text(0, 0, f\"{confusion_rf[0,0]}\\n\\n\", ha=\"center\", va=\"center\", color=\"white\", fontsize=10)\n",
    "    # disp.ax_.text(0, 1, f\"{confusion_rf[1,0]}\\n\\n\", ha=\"center\", va=\"center\", color=\"black\", fontsize=10)\n",
    "    # disp.ax_.text(1, 0, f\"{confusion_rf[0,1]}\\n\\n\", ha=\"center\", va=\"center\", color=\"black\", fontsize=10)\n",
    "    # disp.ax_.text(1, 1, f\"{confusion_rf[1,1]}\\n\\n\", ha=\"center\", va=\"center\", color=\"black\", fontsize=10)\n",
    "\n",
    "    #set the font size of the x and y axis labels\n",
    "    disp.ax_.xaxis.label.set_size(8)\n",
    "    disp.ax_.yaxis.label.set_size(8)\n",
    "\n",
    "    #set the font size of the scale bar on the right side\n",
    "    disp.ax_.images[-1].colorbar.ax.tick_params(labelsize=8)\n",
    "\n",
    "    #draw border around the confusion matrix\n",
    "    disp.ax_.spines['top'].set_color('black')\n",
    "    disp.ax_.spines['bottom'].set_color('black')\n",
    "    disp.ax_.spines['left'].set_color('black')\n",
    "    disp.ax_.spines['right'].set_color('black')\n",
    "\n",
    "    #draw a horizontal line to separate the actual and predicted labels\n",
    "    disp.ax_.axhline(y=0.5, color='black', linewidth=1)\n",
    "    disp.ax_.axvline(x=0.5, color='black', linewidth=1)\n",
    "\n",
    "    #remove the white color grid lines\n",
    "    disp.ax_.grid(False)\n",
    "\n",
    "    plt.show()"
   ]
  },
  {
   "cell_type": "code",
   "execution_count": null,
   "metadata": {},
   "outputs": [],
   "source": [
    "from sklearn.ensemble import RandomForestClassifier\n",
    "from sklearn.metrics import ConfusionMatrixDisplay \n",
    "\n",
    "print(\"\\n--- Random Forest Model Performance Metrics ---\")\n",
    "\n",
    "#Initialize a decision tree classifier with default parameters\n",
    "#max_depth is maximum number of levels in the tree\n",
    "#set random_state to a fixed number for reproducibility\n",
    "model_rf = RandomForestClassifier(max_depth=3, random_state=42) \n",
    "\n",
    "# Train the model on the training data\n",
    "model_rf.fit(X_train, y_train)\n",
    "\n",
    "# Make predictions on the test data\n",
    "y_pred_rf = model_rf.predict(X_test)\n",
    "\n",
    "# Evaluate the model\n",
    "accuracy_rf = accuracy_score(y_test, y_pred_rf)\n",
    "precision_rf = precision_score(y_test, y_pred_rf)\n",
    "recall_rf = recall_score(y_test, y_pred_rf)\n",
    "f1_rf = f1_score(y_test, y_pred_rf)\n",
    "confusion_rf = confusion_matrix(y_test, y_pred_rf)\n",
    "classification_rep_rf = classification_report(y_test, y_pred_rf)\n",
    "\n",
    "# Print the results\n",
    "print(\"\\n--- Random Forest Confusion Matrix: ---\")\n",
    "print(confusion_rf)\n",
    "print(\"\\n--- Random Forest Classification Report: ---\")\n",
    "print(classification_rep_rf)\n",
    "\n",
    "plot_confusion_matrix(confusion_rf)"
   ]
  },
  {
   "cell_type": "markdown",
   "metadata": {},
   "source": [
    "<B>Random Forest Confusion Matrix Observations:</B>"
   ]
  },
  {
   "cell_type": "code",
   "execution_count": null,
   "metadata": {},
   "outputs": [],
   "source": [
    "from sklearn.metrics import roc_curve, roc_auc_score\n",
    "\n",
    "print(\"\\n--- ROC-AUC Plot To Detect Overfitting in Random Forest Model ---\")\n",
    "# Get the predicted probabilities for the positive class on the training set\n",
    "y_train_pred_rf = model_rf.predict_proba(X_train)[:, 1]\n",
    "\n",
    "# Compute the ROC curve for the training set\n",
    "fpr_train, tpr_train, _ = roc_curve(y_train, y_train_pred_rf)\n",
    "\n",
    "# Compute the AUC score for the training set\n",
    "auc_train = roc_auc_score(y_train, y_train_pred_rf)\n",
    "\n",
    "# Get the predicted probabilities for the positive class on the test set\n",
    "y_test_pred_rf = model_rf.predict_proba(X_test)[:, 1]\n",
    "\n",
    "# Compute the ROC curve for the test set\n",
    "fpr_test, tpr_test, _ = roc_curve(y_test, y_test_pred_rf)\n",
    "\n",
    "# Compute the AUC score for the test set\n",
    "auc_test = roc_auc_score(y_test, y_test_pred_rf)\n",
    "\n",
    "# Plot the ROC curves\n",
    "plt.figure(figsize=(10, 6))\n",
    "plt.plot(fpr_train, tpr_train, label=f'Training AUC = {auc_train:.2f}', color='blue')\n",
    "plt.plot(fpr_test, tpr_test, label=f'Test AUC = {auc_test:.2f}', color='green')\n",
    "plt.plot([0, 1], [0, 1], linestyle='--', color='red')\n",
    "#Set the x and y axis labels\n",
    "plt.xlabel('False Positive Rate', fontsize=10)\n",
    "plt.ylabel('True Positive Rate', fontsize=10)\n",
    "plt.title('ROC Curve')\n",
    "\n",
    "plt.rc('axes', titlesize=12)\n",
    "plt.rc('xtick', labelsize=10)\n",
    "plt.rc('ytick', labelsize=10)\n",
    "\n",
    "#Display the legend\n",
    "plt.legend(fontsize=10)\n",
    "\n",
    "plt.show()"
   ]
  },
  {
   "cell_type": "markdown",
   "metadata": {},
   "source": [
    "<H3>Comparative Analysis of Models</H3>"
   ]
  },
  {
   "cell_type": "markdown",
   "id": "3d08213d",
   "metadata": {},
   "source": [
    "A comparative analysis of the Random Forest and Decision Tree models is provided below and consists of:\n",
    "- <B>ROC Curve Analysis:</B> Here we compare the two binary classification models using the ROC (Receiver Operating Characteristic) curve.It plots the True Positive Rate (TPR) against the False Positive Rate (FPR) at various threshold settings. The area under the ROC curve (AUC) is a single scalar value that summarizes the overall performance of the model. A higher AUC value indicates a better model i.e. it can distinguish between the classes more effectively.\n",
    "- <B>Model Metrics Comparison:</B>- A DataFrame is created to capture and display the performance metrics of each model in a tabular format. This provides a clear, concise way to compare the models' performance side-by-side. Bar charts are used to visually compare these metrics across different models. This visual representation aids in quickly discerning which models perform better in terms of accuracy, recall, and precision."
   ]
  },
  {
   "cell_type": "markdown",
   "id": "d52f2244",
   "metadata": {},
   "source": [
    "<H4>ROC Curve Analysis</H4>"
   ]
  },
  {
   "cell_type": "code",
   "execution_count": null,
   "metadata": {},
   "outputs": [],
   "source": [
    "#Create ROC curve for the Random Forest and Decision Tree models and calculate the AUC\n",
    "from sklearn.metrics import roc_curve, roc_auc_score\n",
    "import matplotlib.pyplot as plt\n",
    "\n",
    "#Calculate the probabilities for the Random Forest and Decision Tree models\n",
    "y_pred_prob_rf = model_rf.predict_proba(X_test)[:,1]\n",
    "y_pred_prob_dt = model_dt.predict_proba(X_test)[:,1]\n",
    "\n",
    "#Calculate the FPR, TPR and thresholds for the Random Forest and Decision Tree models\n",
    "fpr_rf, tpr_rf, thresholds_rf = roc_curve(y_test, y_pred_prob_rf)\n",
    "fpr_dt, tpr_dt, thresholds_dt = roc_curve(y_test, y_pred_prob_dt)\n",
    "\n",
    "#Calculate the AUC for the Random Forest and Decision Tree models\n",
    "auc_rf = roc_auc_score(y_test, y_pred_prob_rf)\n",
    "auc_dt = roc_auc_score(y_test, y_pred_prob_dt)\n",
    "\n",
    "#Plot the ROC curve for the Random Forest and Decision Tree models\n",
    "plt.figure(figsize=(10,6))\n",
    "\n",
    "#Plot the ROC curve for the Random Forest model\n",
    "plt.plot(fpr_rf, tpr_rf, label=f'Random Forest (AUC = {auc_rf:.2f})', color='red')\n",
    "\n",
    "#Plot the ROC curve for the Decision Tree model\n",
    "plt.plot(fpr_dt, tpr_dt, label=f'Decision Tree (AUC = {auc_dt:.2f})', color='blue')\n",
    "\n",
    "#Plot the 45 degree line\n",
    "plt.plot([0, 1], [0, 1], 'k--')\n",
    "\n",
    "#increase the font size of the labels\n",
    "plt.rc('axes', titlesize=12)\n",
    "plt.rc('xtick', labelsize=10)\n",
    "plt.rc('ytick', labelsize=10)\n",
    "\n",
    "#Set the x and y axis labels\n",
    "plt.xlabel('False Positive Rate', fontsize=10)\n",
    "plt.ylabel('True Positive Rate', fontsize=10)\n",
    "\n",
    "#Set the title of the plot\n",
    "plt.title('ROC Curve')\n",
    "\n",
    "#Display the legend\n",
    "plt.legend(fontsize=10)\n",
    "\n",
    "plt.tight_layout\n",
    "#Show the plot\n",
    "plt.show()\n"
   ]
  },
  {
   "cell_type": "markdown",
   "metadata": {},
   "source": [
    "<B>ROC Curve Comparison Observations:</B>\n",
    "- Both Random Forest and Decision Trees  have AUC = 1. This indicates that both models are able to perfectly distinguish between the positive and negative classes without any errors."
   ]
  },
  {
   "cell_type": "markdown",
   "metadata": {},
   "source": [
    "<H4>Model Metrics Comparison</H4>"
   ]
  },
  {
   "cell_type": "code",
   "execution_count": null,
   "metadata": {},
   "outputs": [],
   "source": [
    "import pandas as pd\n",
    "import matplotlib.pyplot as plt\n",
    "from sklearn.model_selection import train_test_split, cross_val_score\n",
    "from sklearn.tree import DecisionTreeClassifier\n",
    "from sklearn.ensemble import RandomForestClassifier\n",
    "from sklearn.metrics import accuracy_score, precision_score, recall_score, f1_score, confusion_matrix, classification_report\n",
    "\n",
    "# Assuming accuracy_dt, accuracy_rf, precision_dt, precision_rf, recall_dt, recall_rf, f1_dt, and f1_rf are already defined\n",
    "\n",
    "# Collect the performance metrics in a DataFrame\n",
    "# Obtain the performance metrics for the Decision Tree and Random Forest models for both\n",
    "# Classes: Non-Fraud and Fraud\n",
    "precision_dt_non_fraud = precision_score(y_test, y_pred_dt, pos_label=0)\n",
    "recall_dt_non_fraud = recall_score(y_test, y_pred_dt, pos_label=0)\n",
    "f1_dt_non_fraud = f1_score(y_test, y_pred_dt, pos_label=0)\n",
    "\n",
    "precision_dt_fraud = precision_score(y_test, y_pred_dt, pos_label=1)\n",
    "recall_dt_fraud = recall_score(y_test, y_pred_dt, pos_label=1)\n",
    "f1_dt_fraud = f1_score(y_test, y_pred_dt, pos_label=1)\n",
    "\n",
    "precision_rf_non_fraud = precision_score(y_test, y_pred_rf, pos_label=0)\n",
    "recall_rf_non_fraud = recall_score(y_test, y_pred_rf, pos_label=0)\n",
    "f1_rf_non_fraud = f1_score(y_test, y_pred_rf, pos_label=0)\n",
    "\n",
    "precision_rf_fraud = precision_score(y_test, y_pred_rf, pos_label=1)\n",
    "recall_rf_fraud = recall_score(y_test, y_pred_rf, pos_label=1)\n",
    "f1_rf_fraud = f1_score(y_test, y_pred_rf, pos_label=1)\n",
    "\n",
    "metrics = pd.DataFrame({\n",
    "    'Model': ['Decision Tree', 'Random Forest', 'Decision Tree', 'Random Forest', 'Decision Tree', 'Random Forest', 'Decision Tree', 'Random Forest'],\n",
    "    'Metric': ['Accuracy', 'Accuracy', 'Precision', 'Precision', 'Recall', 'Recall', 'F1 Score', 'F1 Score'],\n",
    "    'Non-Fraud': [accuracy_dt, accuracy_rf, precision_dt_non_fraud, precision_rf_non_fraud, recall_dt_non_fraud, recall_rf_non_fraud, f1_dt_non_fraud, f1_rf_non_fraud],\n",
    "    'Fraud': [accuracy_dt, accuracy_rf, precision_dt_fraud, precision_rf_fraud, recall_dt_fraud, recall_rf_fraud, f1_dt_fraud, f1_rf_fraud]\n",
    "})\n",
    "\n",
    "#combine Model and Metric columns to create a new column\n",
    "metrics['Model_Metric'] = metrics['Model'] + ' ' + metrics['Metric']\n",
    "\n",
    "# Print the performance metrics dataframe\n",
    "print(\"\\n--- Performance Metrics for Decision Tree and Random Forest Models ---\")\n",
    "print(np.round(metrics,2))\n",
    "\n",
    "# Plot the horizontal bar chart\n",
    "# Use a different color for each metric\n",
    "metrics.set_index('Model_Metric').plot(kind='barh', figsize=(10, 4))\n",
    "plt.title('Comparison of Decision Tree and Random Forest Models')\n",
    "plt.xlabel('Score', fontsize=10)\n",
    "plt.ylabel('Model_Metric', fontsize=10)\n",
    "#Increase font size for x and y axis labels\n",
    "plt.rc('xtick', labelsize=10)\n",
    "plt.rc('ytick', labelsize=10)\n",
    "plt.xlim(0, 1)\n",
    "#increas the font size of the legend\n",
    "plt.legend(loc='upper right')\n",
    "plt.tight_layout()\n",
    "plt.show()"
   ]
  },
  {
   "cell_type": "markdown",
   "id": "b104978a",
   "metadata": {},
   "source": [
    "<B>Comparison of Metrics of Decision Tree and Random Forest Models :</B>\n",
    "\n",
    "| Class      | Metric         | Decision Tree | Random Forest  | Comments       |\n",
    "|------------|----------------|---------------|----------------|----------------|\n",
    "| N/A | Accuracy   | 0.98         | 0.97           | DT model has slightly higher accuracy, but due to imbalanced data, this metric is not significant. |\n",
    "| 0 (Non-Fraud) | Precision  | 0.99           | 0.97           | RF model has slightly lower precision for class 0. This implies that the DT model is more accurate in its predictions of the non-fraudulent class and is less likely to incorrectly classify legitimate transactions as fraudulent. |\n",
    "| 0 (Non-Fraud) | Recall     | 0.99           | 1.00           | RF model has slightly higher recall for class 0. This implies that the RF model is slightly more effective at identifying all the relevant instances of the non-fraudulent class.  |\n",
    "| 0 (Non-Fraud) | F1 Score   | 0.99           | 0.99          | RF has same F1 score for class 0, as DT. |\n",
    "| 1 (Fraud)     | Precision  | 0.87           | 1.00           | RF model has higher precision for class 1. This implies that the RF model is more accurate in its predictions for the fraudulent class and is more likely to correctly classify illegitimate transactions as fraudulent. | |\n",
    "| 1 (Fraud)     | Recall     | 0.91           | 0.70           | DT model has significantly higher recall for class 1.This implies that the DT model is much more effective at identifying all the relevant instances of the fraudulent class.  | |\n",
    "| 1 (Fraud)     | F1 Score   | 0.89           | 0.82           | Decision Tree has a higher F1 score for class 1. This is due to higher recall and precision scores for class 1.|\n",
    "\n",
    "Overall, while both models perform well, the Decision Tree model is better at identifying fraudulent transactions (higher recall), whereas the Random Forest model is better at correctly identifying non-fraudulent transactions (higher precision)."
   ]
  },
  {
   "cell_type": "markdown",
   "id": "8a9fe255",
   "metadata": {},
   "source": [
    "<H4>Functional Comparison of Decision Tree and RandomForest Models:</H4>\n",
    "\n",
    "<B>Decision Tree Model:</B>\n",
    "\n",
    "|Pros | Cons|\n",
    "|------|------|\n",
    "|Simplicity and Interpretability: Decision trees are easy to understand and interpret. The tree structure allows for clear visualization of the decision-making process.|Overfitting: Decision trees are prone to overfitting, especially when the tree is deep and complex. This can lead to poor generalization to new data.|\n",
    "|Non-Parametric: Decision trees do not assume any underlying distribution of the data, making them flexible and applicable to a wide range of problems. |Instability: Small changes in the data can result in significantly different tree structures, making decision trees sensitive to variations in the training data.|\n",
    "|Handling of Non-Linear Relationships: Decision trees can capture non-linear relationships between features and the target variable. |Bias-Variance Tradeoff: Decision trees can have high variance and low bias, leading to overfitting. Pruning techniques can help mitigate this issue but may not always be sufficient.|\n",
    "|Feature Importance: Decision trees provide a measure of feature importance, helping to identify the most influential features in the dataset. |\n",
    "|Minimal Data Preparation: Decision trees require little data preprocessing, such as normalization or scaling.|\n",
    "\n",
    "\n",
    "<B>Random Forest Model:</B>\n",
    "\n",
    "|Pros|Cons|\n",
    "|------|------|\n",
    "|Reduced Overfitting: Random forests combine multiple decision trees to reduce overfitting. By averaging the predictions of many trees, they improve generalization to new data.|Complexity: Random forests are more complex and computationally intensive compared to individual decision trees. |Training and prediction times can be longer, especially with a large number of trees.|\n",
    "Robustness: Random forests are more robust to variations in the training data compared to individual decision trees. They are less sensitive to outliers and noise.| Interpretability: While individual decision trees are easy to interpret, random forests are more challenging to interpret due to the ensemble of multiple trees.\n",
    "|Improved Accuracy: Random forests generally provide higher accuracy and better performance compared to individual decision trees.|Memory Usage: Random forests require more memory to store multiple trees, which can be a limitation for large datasets|\n",
    "|Feature Importance: Like decision trees, random forests provide a measure of feature importance, helping to identify the most influential features.|\n",
    "|Handling of Missing Values: Random forests can handle missing values by using surrogate splits or by averaging predictions from trees that do not use the missing feature.|\n",
    "\n",
    "<B>Summary:</B>\n",
    "- Decision Trees are simple, interpretable, and easy to visualize, but prone to overfitting and instability.\n",
    "- Random Forest Models are more robust, accurate, and less prone to overfitting, but more complex, computationally intensive, and harder to interpret."
   ]
  },
  {
   "cell_type": "markdown",
   "id": "2d890744",
   "metadata": {},
   "source": [
    "# Extra Credit: Advanced Model Enhancement and Evaluation\n",
    "\n",
    "## Objective\n",
    "Advance your data science expertise by applying more sophisticated techniques in model enhancement and evaluation within the context of fraud detection. This extra credit section includes data balancing, implementing cross-validation, and conducting a feature importance analysis.\n",
    "\n",
    "## Tasks\n",
    "1. **Balancing the Data**:\n",
    "   - Utilize a technique like SMOTE or undersampling to balance the dataset.\n",
    "   - Rebuild the Random Forest model using the balanced dataset.\n",
    "2. **Cross-Validation**:\n",
    "   - Implement 5-fold cross-validation for the Random Forest model.\n",
    "   - Analyze the model's performance and stability based on cross-validation results.\n",
    "3. **Feature Importance Analysis**:\n",
    "   - Determine feature importance using the Random Forest model.\n",
    "   - Present the feature importances in a table and a graph.\n",
    "\n",
    "## Extra Credit Grading Rubric\n",
    "\n",
    "**Total Points: 50**\n",
    "\n",
    "1. **Balancing the Data (15 Points)**:\n",
    "   - Correct application of a technique to balance the dataset: 7 points\n",
    "   - Successful rebuilding of the Random Forest model with balanced data: 8 points\n",
    "\n",
    "2. **Cross-Validation (20 Points)**:\n",
    "   - Proper implementation of 5-fold cross-validation: 10 points\n",
    "   - Comprehensive analysis of cross-validation results: 10 points\n",
    "\n",
    "3. **Feature Importance Analysis (15 Points)**:\n",
    "   - Accurate determination of feature importances: 7 points\n",
    "   - Clear and informative presentation of feature importances in a table and graph: 8 points\n",
    "\n",
    "## Submission Guidelines for Extra Credit\n",
    "- Include your extra credit work in the same Jupyter Notebook or Python script as the main assignment.\n",
    "- Clearly label the sections and outputs for the extra credit tasks.\n",
    "- Ensure your analysis and visualizations are comprehensible and well-explained.\n",
    "\n",
    "## Notes\n",
    "- This extra credit section is optional and designed for students interested in deeper exploration of data science techniques.\n",
    "- Focus on the quality of analysis and clarity of presentation for awarding points in this section.\n"
   ]
  },
  {
   "cell_type": "markdown",
   "metadata": {},
   "source": [
    "<H3>Balancing The Data</H3>"
   ]
  },
  {
   "cell_type": "markdown",
   "metadata": {},
   "source": [
    "During Exploratory Data Analysis, we have noted that the data is imbalanced i.e. there are more representatives of Class 0 (non-fraud) than of Class 1 (fraud). If the imbalance is very high (>10), it can be addressed by using SMOTE algorithm to synthesize additional data for class 0 by sampling existing data. To avoid data leakage/contamination, SMOTE needs to be applied only to training data after splitting."
   ]
  },
  {
   "cell_type": "code",
   "execution_count": null,
   "id": "287ac32b",
   "metadata": {},
   "outputs": [],
   "source": [
    "#print imbalance ratio\n",
    "print(\"Majority class count:\", y_train.value_counts()[0])\n",
    "print(\"Minority class count:\", y_train.value_counts()[1])\n",
    "print(\"Imbalance ratio before SMOTE oversampling:\", np.round(y_train.value_counts()[0] / y_train.value_counts()[1],2))\n",
    " \n",
    "# use SMOTE to oversample the minority class in the traiing set if the \n",
    "# imbalance ratio is greater than 10\n",
    "from imblearn.over_sampling import SMOTE\n",
    "if y_train.value_counts()[0] / y_train.value_counts()[1] > 10:\n",
    "    smote = SMOTE(random_state=42)\n",
    "    X_train, y_train = smote.fit_resample(X_train, y_train)\n",
    "    print(\"Imbalance ratio after SMOTE oversampling:\", np.round(y_train.value_counts()[0] / y_train.value_counts()[1],2))\n",
    "    #plot histogram of the target variable after smote oversampling to confirm that\n",
    "    #the classes are balanced\n",
    "    plt.figure(figsize=(10,6))\n",
    "    sns.histplot(y_train, kde=True, color=\"blue\")\n",
    "else:\n",
    "    print(\"No need for SMOTE oversampling\")"
   ]
  },
  {
   "cell_type": "markdown",
   "metadata": {},
   "source": [
    "<H4>Cross-validation</H4>"
   ]
  },
  {
   "cell_type": "markdown",
   "metadata": {},
   "source": [
    "Cross-validation is a statistical technique used to evaluate the performance and generalizability of a machine learning model. It involves partitioning the dataset into multiple subsets, training the model on some subsets (training set), and evaluating it on the remaining subsets (validation set). This process is repeated multiple times, and the results are averaged to provide a more reliable estimate of the model's performance."
   ]
  },
  {
   "cell_type": "markdown",
   "metadata": {},
   "source": [
    "K-Fold Cross-Validation: The dataset is divided into k equal-sized folds. The model is trained on k-1 folds and validated on the remaining fold. This process is repeated k times, with each fold used as the validation set once. The results are averaged to obtain the final performance metric."
   ]
  },
  {
   "cell_type": "code",
   "execution_count": null,
   "metadata": {},
   "outputs": [],
   "source": [
    "#Note: This block takes 3-4 minutes to run without n_jobs=-1 parameter setting\n",
    "print(\"\\n--- Random Forest Model Performance Metrics After Balancing Data and 5-fold Cross Validation---\")\n",
    "#Create a K-fold cross-validation object and use it for training the model, with K = 5\n",
    "from sklearn.model_selection import cross_val_score\n",
    "from sklearn.model_selection import KFold,StratifiedKFold\n",
    "\n",
    "#print value counts of the target variable in the training set\n",
    "print(\"Value counts of the target variable in the training set\")\n",
    "print(y_train.value_counts())\n",
    "\n",
    "#Create a KFold object with 5 splits\n",
    "kf = StratifiedKFold(n_splits=5, shuffle=True, random_state=42)\n",
    "\n",
    "#Initialize a new instance of Random Forest classifier to use in cross-validation\n",
    "#set random_state to a fixed number for reproducibility\n",
    "model_rf2 = RandomForestClassifier(max_depth=3, random_state=42,n_jobs=-1)\n",
    "\n",
    "#Train the model using cross-validation\n",
    "cv_scores = cross_val_score(model_rf2, X_train, y_train, cv=kf)\n",
    "\n",
    "#Print the cross-validation scores\n",
    "print(\"\\n--- Cross-Validation Scores ---\")\n",
    "print(cv_scores)\n",
    "\n",
    "#Print the mean and standard deviation of the cross-validation scores\n",
    "print(f\"Mean CV Score: {cv_scores.mean():.2f}\")\n",
    "print(f\"CV Score Standard Deviation: {cv_scores.std():.2f}\")\n",
    "\n",
    "#Train the Random Forest model on the training data\n",
    "model_rf2.fit(X_train, y_train)\n",
    "\n",
    "#Make predictions on the test data\n",
    "y_pred_rf2 = model_rf2.predict(X_test)\n",
    "\n",
    "#Evaluate the model\n",
    "accuracy_rf2 = accuracy_score(y_test, y_pred_rf2)\n",
    "confusion_rf2 = confusion_matrix(y_test, y_pred_rf2)\n",
    "classification_rep_rf2 = classification_report(y_test, y_pred_rf2)\n",
    "\n",
    "#Print the results\n",
    "print(f\"Accuracy: {accuracy_rf2:.2f}\")\n",
    "print(\"Confusion Matrix:\")\n",
    "print(confusion_rf2)\n",
    "print(\"Classification Report:\")\n",
    "print(classification_rep_rf2)\n",
    "\n",
    "#Plot the confusion matrix\n",
    "plot_confusion_matrix(confusion_rf2)"
   ]
  },
  {
   "cell_type": "markdown",
   "id": "4e9d3555",
   "metadata": {},
   "source": [
    "<B>Observations after retraining model with balanced target variable:</B>\n",
    "\n",
    "The precision, recall and f1-score have improved for class 1 (fraud) as compared a model trained on an unbalanced target variable. "
   ]
  },
  {
   "cell_type": "markdown",
   "metadata": {},
   "source": [
    "<H4>Feature Importance Analysis</H4>"
   ]
  },
  {
   "cell_type": "markdown",
   "id": "beb73968",
   "metadata": {},
   "source": [
    "<B>Feature Importance from Cross-Validated Model:</B>"
   ]
  },
  {
   "cell_type": "code",
   "execution_count": null,
   "metadata": {},
   "outputs": [],
   "source": [
    "feature_importance = model_rf2.feature_importances_\n",
    "# Original feature names\n",
    "feature_names = data.columns[:-1]\n",
    "\n",
    "# Verify the length of feature names matches the length of feature importances\n",
    "assert len(feature_names) == len(feature_importance), \"Feature name and importance length mismatch\"\n",
    "\n",
    "# Create the Feature Importance DataFrame\n",
    "importance_df = pd.DataFrame({\n",
    "    'Feature': feature_names,\n",
    "    'Importance': feature_importance\n",
    "}).sort_values(by='Importance', ascending=False)\n",
    "\n",
    "# Print the Feature Importance DataFrame\n",
    "print(\"\\n--- Feature Importance Table ---\")\n",
    "print(importance_df)\n",
    "\n",
    "print(\"\\n--- Feature Importance Bar Chart ---\")\n",
    "# Plot Feature Importance\n",
    "plt.figure(figsize=(10, 6))\n",
    "sns.barplot(data=importance_df.head(10), x='Importance', y='Feature')\n",
    "#print the values at the end of the bars. Leave a gap between the end of the bar and the value\n",
    "for i, v in enumerate(importance_df['Importance'].head(10)):\n",
    "    plt.text(v, i, round(v,2), ha='left', va='center', fontsize=10)\n",
    "\n",
    "#increase the font size of the x and y axis labels\n",
    "plt.rc('axes', titlesize=12)\n",
    "plt.rc('xtick', labelsize=10)\n",
    "plt.rc('ytick', labelsize=10)\n",
    "\n",
    "plt.xlabel('Feature Importance', fontsize=10)\n",
    "plt.ylabel('Feature', fontsize=10)\n",
    "\n",
    "plt.title('Top 10 Feature Importances')\n",
    "plt.tight_layout()\n",
    "plt.show()"
   ]
  },
  {
   "cell_type": "markdown",
   "id": "5f97c6f3",
   "metadata": {},
   "source": [
    "<B>Feature Importance using Gini Coefficient:</B>"
   ]
  },
  {
   "cell_type": "code",
   "execution_count": null,
   "id": "81d0dbd7",
   "metadata": {},
   "outputs": [],
   "source": [
    "print(\"\\n--- Feature Importance Gini Coefficient Bar Chart ---\")\n",
    "\n",
    "importance_dt = model_dt.feature_importances_\n",
    "\n",
    "# Sort the feature importance in ascending order\n",
    "indices_dt = np.argsort(importance_dt)\n",
    "\n",
    "# Create a Gini coefficient plot for the Decision Tree model\n",
    "plt.figure(figsize=(10, 6))\n",
    "plt.barh(range(len(importance_dt)), importance_dt[indices_dt], align='center')\n",
    "plt.yticks(range(len(importance_dt)), X_train.columns[indices_dt], rotation=0)\n",
    "plt.title('Gini Coefficient Plot for Decision Tree Model')\n",
    "# Increase font size of the x and y axis labels\n",
    "plt.xlabel('Gini Coefficient', fontsize=10)\n",
    "plt.ylabel('Features', fontsize=10)\n",
    "\n",
    "# Increase the font size of the labels\n",
    "plt.rc('axes', titlesize=12)\n",
    "plt.rc('xtick', labelsize=10)\n",
    "plt.rc('ytick', labelsize=10)\n",
    "\n",
    "# Show values at the end of the bars. Leave a gap between the end of the bar and the value\n",
    "for i, v in enumerate(importance_dt[indices_dt]):\n",
    "    plt.text(v, i, round(v, 2), ha='left', va='center', fontsize=8)\n",
    "\n",
    "plt.tight_layout()\n",
    "plt.show()"
   ]
  },
  {
   "cell_type": "markdown",
   "id": "338f30aa",
   "metadata": {},
   "source": [
    "<B>Gini Coefficient Observations:</B>\n",
    "The Gini Coefficient chart helps us to determine the best feature to use as the root node for the decision tree. To do this, we will calculate the Gini impurity for each feature and select the feature with the lowest Gini impurity."
   ]
  },
  {
   "cell_type": "markdown",
   "id": "210600d5",
   "metadata": {},
   "source": [
    "<B>Feature Importance Observations</B>\n",
    "\n",
    "Both the feature importances chart and the Gini coefficients chart indicate that:\n",
    "- The feature with the highest importance is <B>ratio_to_median_purchase_price</B>. This implies that transactions with higher prices are more likely to be fraudulent.\n",
    "- The feature with the least importance is <B>repeat_retailer</B>. This implies that fraudulent transactions can happen at the same retailer or at different retailers.\n",
    "- The features <B>online_order</B> and <B>distance_from_home</B> are next in importance respectively, implying that fraudulent orders are less likely in transactions made in person or closer to the customer's home.\n",
    "- The feature <B>used_pin</B> is next in importance, implying that transactions involving the entry of a pin, like those using a debit card for instance, are more susceptible to fraud."
   ]
  },
  {
   "cell_type": "markdown",
   "id": "bed47167",
   "metadata": {},
   "source": [
    "<H4>Re-training the model with reduced features</B>"
   ]
  },
  {
   "cell_type": "code",
   "execution_count": null,
   "id": "9e44a5b4",
   "metadata": {},
   "outputs": [],
   "source": [
    "#Note: This block of code takes 5-6 minutes to run without njobs=-1 parameter setting\n",
    "print(\"\\n--- Random Forest Model Performance Metrics After Reducing Features---\")\n",
    "# Create a K-fold cross-validation object and use it for training the model, with K = 5\n",
    "from sklearn.model_selection import cross_val_score\n",
    "from sklearn.model_selection import KFold\n",
    "\n",
    "#drop the feature repeat_retailer as it has low feature importance\n",
    "X_train.drop('repeat_retailer', axis=1, inplace=True)\n",
    "X_test.drop('repeat_retailer', axis=1, inplace=True)\n",
    "\n",
    "#Create a KFold object with 5 splits\n",
    "kf = StratifiedKFold(n_splits=5, shuffle=True, random_state=42)\n",
    "\n",
    "#Initialize a new instance of Random Forest classifier to use in cross-validation\n",
    "#set random_state to a fixed number for reproducibility\n",
    "model_rf2 = RandomForestClassifier(max_depth=3, random_state=42,n_jobs=-1)\n",
    "\n",
    "#Train the model using cross-validation\n",
    "cv_scores = cross_val_score(model_rf2, X_train, y_train, cv=kf)\n",
    "\n",
    "#Print the cross-validation scores\n",
    "print(\"\\n--- Cross-Validation Scores ---\")\n",
    "print(cv_scores)\n",
    "\n",
    "#Print the mean and standard deviation of the cross-validation scores\n",
    "print(f\"Mean CV Score: {cv_scores.mean():.2f}\")\n",
    "print(f\"CV Score Standard Deviation: {cv_scores.std():.2f}\")\n",
    "\n",
    "#Train the Random Forest model on the training data\n",
    "model_rf2.fit(X_train, y_train)\n",
    "\n",
    "#Make predictions on the test data\n",
    "y_pred_rf2 = model_rf2.predict(X_test)\n",
    "\n",
    "#Evaluate the model\n",
    "accuracy_rf2 = accuracy_score(y_test, y_pred_rf2)\n",
    "confusion_rf2 = confusion_matrix(y_test, y_pred_rf2)\n",
    "classification_rep_rf2 = classification_report(y_test, y_pred_rf2)\n",
    "\n",
    "#Print the results\n",
    "print(f\"Accuracy: {accuracy_rf2:.2f}\")\n",
    "print(\"Confusion Matrix:\")\n",
    "print(confusion_rf2)\n",
    "print(\"Classification Report:\")\n",
    "print(classification_rep_rf2)\n",
    "\n",
    "#Plot the confusion matrix\n",
    "plot_confusion_matrix(confusion_rf2)"
   ]
  },
  {
   "cell_type": "markdown",
   "id": "3e8049ad",
   "metadata": {},
   "source": [
    "<B>Observations after retraining model with reduced features:</B>\n",
    "\n",
    "The precision, recall and f1-score have improved for class 1 (fraud) as compared a model trained on all features. "
   ]
  },
  {
   "cell_type": "markdown",
   "id": "4459c6c2",
   "metadata": {},
   "source": [
    "<B>Comparison of Metrics of Random Forest Models Before and After Modifications:</B>\n",
    "\n",
    "Note: 'tuning' => Balancing, 5-fold Cross-validation\n",
    "\n",
    "| Class      | Metric         | Baseline RF   |'Tuned' RF with reduced Features    | 'Tuned' RF with all Features   | Comments       |\n",
    "|------------|----------------|---------------|---------------|----------------|----------------|\n",
    "| N/A | Accuracy   | 0.97        | 0.97 |1.00      |    Accuracy seems to better when using a tuned model with all features, but this metric is not considered for imbalanced datasets. |\n",
    "| 0 (Non-Fraud) | Precision | 0.97      | 1.00 | 1.00                      |  Precision for class 0 has improved after tuning. |\n",
    "| 0 (Non-Fraud) | Recall      | 1.00  | 0.97  |1.00                                  | The recall value for class 0 has reduced slightly after removing features.  |\n",
    "| 0 (Non-Fraud) | F1 Score   | 0.99         | 0.98 |1.00                           | The F1 score class 0 has reduced slightly after removing features. |\n",
    "| 1 (Fraud)     | Precision   | 1.00         | 0.74  |0.98                          | The precision for class 1 has reduced after removing features. But the tuned model with all features has comparable precison with baseline model. | |\n",
    "| 1 (Fraud)     | Recall      | 0.70        | 1.00   |0.99                          | The recall of the tuned model has significantly improved for class 1, with and without removing features.  | |\n",
    "| 1 (Fraud)     | F1 Score     | 0.82        | 0.85   |0.99                         | The tuned model has a higher F1 score for class 1 after removing features, but the tuned model with all features has the best F1 score for class 1.|\n",
    "\n",
    "Overall, the 'tuned' RF model, with all features, has the best performance in identifying fraudulent transactions due to higher recall and F1 score."
   ]
  },
  {
   "cell_type": "markdown",
   "id": "f6007081",
   "metadata": {},
   "source": [
    "<H3>Reflection and Discussion</H3>"
   ]
  },
  {
   "cell_type": "markdown",
   "id": "0e8828f6",
   "metadata": {},
   "source": [
    "We started with a Decision Tree model and proceeded to build a Random Forest (RF) model. \n",
    "\n",
    "The baseline RF model with default parameters performed well on Class 0 (Non-fraud) cases but did not perform that well on Class 1 (Fraud) cases, relative to the baseline DT model. \n",
    "\n",
    "We were able to build and train a high-performance fraud detection model by significantly improving the performance of the baseline RF model using the following techniques:\n",
    "\n",
    "- We used SMOTE (Synthetic Minority Oversampling Technique) algorithm to smoothen out the imbalances in the training dataset. The training dataset originally had an overwhelming majority of rows in favor of Class 0, and SMOTE was used to sample and auto-generate more rows having target label Class 1. The testing dataset was left untouched.\n",
    "- We used k-fold (k = 5) cross-validation during model training. It involves partitioning the dataset into k equal-sized folds, training the model on k-1 folds, and validating it on the remaining fold. This process is repeated k times, with each fold used as the validation set once. The results are averaged to provide a more reliable estimate of the model's performance. This also reduces overfitting.\n",
    "- We carried out feature importance analysis to identify and remove unnecessary features and this reduced the overfitting as well as the training time."
   ]
  }
 ],
 "metadata": {
  "kernelspec": {
   "display_name": ".venv",
   "language": "python",
   "name": "python3"
  },
  "language_info": {
   "codemirror_mode": {
    "name": "ipython",
    "version": 3
   },
   "file_extension": ".py",
   "mimetype": "text/x-python",
   "name": "python",
   "nbconvert_exporter": "python",
   "pygments_lexer": "ipython3",
   "version": "3.12.2"
  }
 },
 "nbformat": 4,
 "nbformat_minor": 5
}
